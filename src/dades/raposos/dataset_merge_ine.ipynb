{
 "cells": [
  {
   "cell_type": "code",
   "execution_count": 2,
   "metadata": {},
   "outputs": [],
   "source": [
    "import pandas as pd"
   ]
  },
  {
   "cell_type": "markdown",
   "metadata": {},
   "source": [
    "# 1. Get data"
   ]
  },
  {
   "cell_type": "markdown",
   "metadata": {},
   "source": [
    "## 1.1. Dades obertes catalunya"
   ]
  },
  {
   "cell_type": "code",
   "execution_count": 4,
   "metadata": {},
   "outputs": [
    {
     "name": "stderr",
     "output_type": "stream",
     "text": [
      "/var/folders/0b/9qg1xh5d46j8phx5051jbncw0000gn/T/ipykernel_61565/2859823496.py:2: DtypeWarning: Columns (2) have mixed types. Specify dtype option on import or set low_memory=False.\n",
      "  df_csv = pd.read_csv('https://github.com/fndvit/mds-udg-viz-i-dgpcd-hackathon-25/raw/refs/heads/main/src/dades/font/certificats.csv')\n"
     ]
    }
   ],
   "source": [
    "# df = pd.read_csv('../../dades/font/exemple.csv')\n",
    "df_csv = pd.read_csv('https://github.com/fndvit/mds-udg-viz-i-dgpcd-hackathon-25/raw/refs/heads/main/src/dades/font/certificats.csv')"
   ]
  },
  {
   "cell_type": "markdown",
   "metadata": {},
   "source": [
    "## 1.2. Dades INE"
   ]
  },
  {
   "cell_type": "code",
   "execution_count": 8,
   "metadata": {},
   "outputs": [],
   "source": [
    "urls_ine = {\n",
    "    'renta_media_mediana': [\n",
    "        \"https://www.ine.es/jaxiT3/files/t/es/csv_bdsc/31016.csv?nocab=1\",\n",
    "        \"https://www.ine.es/jaxiT3/files/t/es/csv_bdsc/30896.csv?nocab=1\",\n",
    "        \"https://www.ine.es/jaxiT3/files/t/es/csv_bdsc/31223.csv?nocab=1\",\n",
    "        \"https://www.ine.es/jaxiT3/files/t/es/csv_bdsc/31079.csv?nocab=1\"\n",
    "    ],\n",
    "    'distr_fuente_ingresos': [\n",
    "        \"https://www.ine.es/jaxiT3/files/t/es/csv_bdsc/31017.csv?nocab=1\",\n",
    "        \"https://www.ine.es/jaxiT3/files/t/es/csv_bdsc/30897.csv?nocab=1\",\n",
    "        \"https://www.ine.es/jaxiT3/files/t/es/csv_bdsc/31224.csv?nocab=1\",\n",
    "        \"https://www.ine.es/jaxiT3/files/t/es/csv_bdsc/31080.csv?nocab=1\"\n",
    "    ],\n",
    "    'indice_gini': [\n",
    "        \"https://www.ine.es/jaxiT3/files/t/es/csv_bdsc/37697.csv?nocab=1\",\n",
    "        \"https://www.ine.es/jaxiT3/files/t/es/csv_bdsc/37686.csv?nocab=1\",\n",
    "        \"https://www.ine.es/jaxiT3/files/t/es/csv_bdsc/37718.csv?nocab=1\",\n",
    "        \"https://www.ine.es/jaxiT3/files/t/es/csv_bdsc/37704.csv?nocab=1\",\n",
    "    ],\n",
    "    'demographics': [\n",
    "        \"https://www.ine.es/jaxiT3/files/t/es/csv_bdsc/31024.csv?nocab=1\"\n",
    "        \"https://www.ine.es/jaxiT3/files/t/es/csv_bdsc/30904.csv?nocab=1\",\n",
    "        \"https://www.ine.es/jaxiT3/files/t/es/csv_bdsc/31231.csv?nocab=1\",\n",
    "        \"https://www.ine.es/jaxiT3/files/t/es/csv_bdsc/31087.csv?nocab=1\",\n",
    "    ]\n",
    "}"
   ]
  },
  {
   "cell_type": "code",
   "execution_count": null,
   "metadata": {},
   "outputs": [],
   "source": [
    "# Montem un objecte \n",
    "# codi_districte: {\n",
    "#       codi_districte,\n",
    "#       codi_postal,\n",
    "#       poblacio,\n",
    "#       years: {\n",
    "#           2020: {\n",
    "#               // excel renta media per persona\n",
    "#               renta_neta_mitja_por_persona,\n",
    "#               renta_neta_mitja_por_hogar,\n",
    "#               renta_mitja_por_unitat_consum,\n",
    "#               renta_mediana_por_unitat_consum,\n",
    "#               renta_bruta_mitja_por_persona,\n",
    "#               renta_bruta_mitja_por_hogar,\n",
    "#               \n",
    "#               // excel fuente ingresos\n",
    "#               renta_bruta_mitja_por_persona_fuente_salario,\n",
    "#               renta_bruta_mitja_por_persona_fuente_pensiones,\n",
    "#               renta_bruta_mitja_por_persona_fuente_desempleo,\n",
    "#               renta_bruta_mitja_por_persona_fuente_otras_prestaciones,\n",
    "#               renta_bruta_mitja_por_persona_fuente_otros_ingresos,\n",
    "#\n",
    "#               // excel gini\n",
    "#               indice_gini,\n",
    "#               distribucion_renta_p80_p20,\n",
    "#               \n",
    "#               // excel demographics\n",
    "#               edad_media_poblacion,\n",
    "#               prcnt_poblacion_menor_edad,\n",
    "#               prcnt_poblacion_mas_65_anos,\n",
    "#               tamano_medio_hogar,\n",
    "#               prcnt_hogares_unipersonales,\n",
    "#               poblacion_habitantes,\n",
    "#               prcnt_poblacion_espanola,\n",
    "#           }\n",
    "#       }\n",
    "# }"
   ]
  },
  {
   "cell_type": "code",
   "execution_count": 9,
   "metadata": {},
   "outputs": [],
   "source": [
    "res = {}"
   ]
  },
  {
   "cell_type": "markdown",
   "metadata": {},
   "source": [
    "### 1.2.1. Excel renta media y mediana"
   ]
  },
  {
   "cell_type": "code",
   "execution_count": 10,
   "metadata": {},
   "outputs": [],
   "source": [
    "map_excel_categoria = {\n",
    "    \"Renta neta media por persona\": \"renta_neta_mitja_por_persona\",\n",
    "    \"Renta neta media por hogar\": \"renta_neta_mitja_por_hogar\",\n",
    "    \"Media de la renta por unidad de consumo\": \"renta_mitja_por_unitat_consum\",\n",
    "    \"Mediana de la renta por unidad de consumo\": \"renta_mediana_por_unitat_consum\",\n",
    "    \"Renta bruta media por persona\": \"renta_bruta_mitja_por_persona\",\n",
    "    \"Renta bruta media por hogar\": \"renta_bruta_mitja_por_hogar\",\n",
    "}"
   ]
  },
  {
   "cell_type": "code",
   "execution_count": 24,
   "metadata": {},
   "outputs": [
    {
     "ename": "IndexError",
     "evalue": "list assignment index out of range",
     "output_type": "error",
     "traceback": [
      "\u001b[0;31m---------------------------------------------------------------------------\u001b[0m",
      "\u001b[0;31mIndexError\u001b[0m                                Traceback (most recent call last)",
      "Cell \u001b[0;32mIn[24], line 18\u001b[0m\n\u001b[1;32m     10\u001b[0m     res[seccio] \u001b[38;5;241m=\u001b[39m {\n\u001b[1;32m     11\u001b[0m         \u001b[38;5;124m'\u001b[39m\u001b[38;5;124mcodi_districte\u001b[39m\u001b[38;5;124m'\u001b[39m: seccio,\n\u001b[1;32m     12\u001b[0m         \u001b[38;5;124m'\u001b[39m\u001b[38;5;124mcodi_postal\u001b[39m\u001b[38;5;124m'\u001b[39m: row[\u001b[38;5;124m'\u001b[39m\u001b[38;5;124mMunicipios\u001b[39m\u001b[38;5;124m'\u001b[39m]\u001b[38;5;241m.\u001b[39msplit()[\u001b[38;5;241m0\u001b[39m],\n\u001b[1;32m     13\u001b[0m         \u001b[38;5;124m'\u001b[39m\u001b[38;5;124mpoblacio\u001b[39m\u001b[38;5;124m'\u001b[39m: row[\u001b[38;5;124m'\u001b[39m\u001b[38;5;124mMunicipios\u001b[39m\u001b[38;5;124m'\u001b[39m]\u001b[38;5;241m.\u001b[39msplit()[\u001b[38;5;241m1\u001b[39m],\n\u001b[1;32m     14\u001b[0m         \u001b[38;5;124m'\u001b[39m\u001b[38;5;124myears\u001b[39m\u001b[38;5;124m'\u001b[39m: {}\n\u001b[1;32m     15\u001b[0m     }\n\u001b[1;32m     17\u001b[0m \u001b[38;5;28;01mif\u001b[39;00m \u001b[38;5;129;01mnot\u001b[39;00m row[\u001b[38;5;124m'\u001b[39m\u001b[38;5;124mPeriodo\u001b[39m\u001b[38;5;124m'\u001b[39m] \u001b[38;5;129;01min\u001b[39;00m res[seccio][\u001b[38;5;124m'\u001b[39m\u001b[38;5;124myears\u001b[39m\u001b[38;5;124m'\u001b[39m]:\n\u001b[0;32m---> 18\u001b[0m     \u001b[43mres\u001b[49m\u001b[43m[\u001b[49m\u001b[43mseccio\u001b[49m\u001b[43m]\u001b[49m\u001b[43m[\u001b[49m\u001b[38;5;124;43m'\u001b[39;49m\u001b[38;5;124;43myears\u001b[39;49m\u001b[38;5;124;43m'\u001b[39;49m\u001b[43m]\u001b[49m\u001b[43m[\u001b[49m\u001b[43mrow\u001b[49m\u001b[43m[\u001b[49m\u001b[38;5;124;43m'\u001b[39;49m\u001b[38;5;124;43mPeriodo\u001b[39;49m\u001b[38;5;124;43m'\u001b[39;49m\u001b[43m]\u001b[49m\u001b[43m]\u001b[49m \u001b[38;5;241m=\u001b[39m {\n\u001b[1;32m     19\u001b[0m         \u001b[38;5;124m'\u001b[39m\u001b[38;5;124mrenta_neta_mitja_por_persona\u001b[39m\u001b[38;5;124m'\u001b[39m: \u001b[38;5;28;01mNone\u001b[39;00m,\n\u001b[1;32m     20\u001b[0m         \u001b[38;5;124m'\u001b[39m\u001b[38;5;124mrenta_neta_mitja_por_hogar\u001b[39m\u001b[38;5;124m'\u001b[39m: \u001b[38;5;28;01mNone\u001b[39;00m,\n\u001b[1;32m     21\u001b[0m         \u001b[38;5;124m'\u001b[39m\u001b[38;5;124mrenta_mitja_por_unitat_consum\u001b[39m\u001b[38;5;124m'\u001b[39m: \u001b[38;5;28;01mNone\u001b[39;00m,\n\u001b[1;32m     22\u001b[0m         \u001b[38;5;124m'\u001b[39m\u001b[38;5;124mrenta_mediana_por_unitat_consum\u001b[39m\u001b[38;5;124m'\u001b[39m: \u001b[38;5;28;01mNone\u001b[39;00m,\n\u001b[1;32m     23\u001b[0m         \u001b[38;5;124m'\u001b[39m\u001b[38;5;124mrenta_bruta_mitja_por_persona\u001b[39m\u001b[38;5;124m'\u001b[39m: \u001b[38;5;28;01mNone\u001b[39;00m,\n\u001b[1;32m     24\u001b[0m         \u001b[38;5;124m'\u001b[39m\u001b[38;5;124mrenta_bruta_mitja_por_hogar\u001b[39m\u001b[38;5;124m'\u001b[39m: \u001b[38;5;28;01mNone\u001b[39;00m,\n\u001b[1;32m     25\u001b[0m         \u001b[38;5;124m'\u001b[39m\u001b[38;5;124mrenta_bruta_mitja_por_persona_fuente_salario\u001b[39m\u001b[38;5;124m'\u001b[39m: \u001b[38;5;28;01mNone\u001b[39;00m,\n\u001b[1;32m     26\u001b[0m         \u001b[38;5;124m'\u001b[39m\u001b[38;5;124mrenta_bruta_mitja_por_persona_fuente_pensiones\u001b[39m\u001b[38;5;124m'\u001b[39m: \u001b[38;5;28;01mNone\u001b[39;00m,\n\u001b[1;32m     27\u001b[0m         \u001b[38;5;124m'\u001b[39m\u001b[38;5;124mrenta_bruta_mitja_por_persona_fuente_desempleo\u001b[39m\u001b[38;5;124m'\u001b[39m: \u001b[38;5;28;01mNone\u001b[39;00m,\n\u001b[1;32m     28\u001b[0m         \u001b[38;5;124m'\u001b[39m\u001b[38;5;124mrenta_bruta_mitja_por_persona_fuente_otras_prestaciones\u001b[39m\u001b[38;5;124m'\u001b[39m: \u001b[38;5;28;01mNone\u001b[39;00m,\n\u001b[1;32m     29\u001b[0m         \u001b[38;5;124m'\u001b[39m\u001b[38;5;124mrenta_bruta_mitja_por_persona_fuente_otros_ingresos\u001b[39m\u001b[38;5;124m'\u001b[39m: \u001b[38;5;28;01mNone\u001b[39;00m,\n\u001b[1;32m     30\u001b[0m         \u001b[38;5;124m'\u001b[39m\u001b[38;5;124mindice_gini\u001b[39m\u001b[38;5;124m'\u001b[39m: \u001b[38;5;28;01mNone\u001b[39;00m,\n\u001b[1;32m     31\u001b[0m         \u001b[38;5;124m'\u001b[39m\u001b[38;5;124mdistribucion_renta_p80_p20\u001b[39m\u001b[38;5;124m'\u001b[39m: \u001b[38;5;28;01mNone\u001b[39;00m,\n\u001b[1;32m     32\u001b[0m         \u001b[38;5;124m'\u001b[39m\u001b[38;5;124medad_media_poblacion\u001b[39m\u001b[38;5;124m'\u001b[39m: \u001b[38;5;28;01mNone\u001b[39;00m,\n\u001b[1;32m     33\u001b[0m         \u001b[38;5;124m'\u001b[39m\u001b[38;5;124mprcnt_poblacion_menor_edad\u001b[39m\u001b[38;5;124m'\u001b[39m: \u001b[38;5;28;01mNone\u001b[39;00m,\n\u001b[1;32m     34\u001b[0m         \u001b[38;5;124m'\u001b[39m\u001b[38;5;124mprcnt_poblacion_mas_65_anos\u001b[39m\u001b[38;5;124m'\u001b[39m: \u001b[38;5;28;01mNone\u001b[39;00m,\n\u001b[1;32m     35\u001b[0m         \u001b[38;5;124m'\u001b[39m\u001b[38;5;124mtamano_medio_hogar\u001b[39m\u001b[38;5;124m'\u001b[39m: \u001b[38;5;28;01mNone\u001b[39;00m,\n\u001b[1;32m     36\u001b[0m         \u001b[38;5;124m'\u001b[39m\u001b[38;5;124mprcnt_hogares_unipersonales\u001b[39m\u001b[38;5;124m'\u001b[39m: \u001b[38;5;28;01mNone\u001b[39;00m,\n\u001b[1;32m     37\u001b[0m         \u001b[38;5;124m'\u001b[39m\u001b[38;5;124mpoblacion_habitantes\u001b[39m\u001b[38;5;124m'\u001b[39m: \u001b[38;5;28;01mNone\u001b[39;00m,\n\u001b[1;32m     38\u001b[0m         \u001b[38;5;124m'\u001b[39m\u001b[38;5;124mprcnt_poblacion_espanola\u001b[39m\u001b[38;5;124m'\u001b[39m: \u001b[38;5;28;01mNone\u001b[39;00m,\n\u001b[1;32m     39\u001b[0m     }\n\u001b[1;32m     41\u001b[0m \u001b[38;5;66;03m# Processem les dades\u001b[39;00m\n\u001b[1;32m     42\u001b[0m res[seccio][\u001b[38;5;124m'\u001b[39m\u001b[38;5;124myears\u001b[39m\u001b[38;5;124m'\u001b[39m][row[\u001b[38;5;124m'\u001b[39m\u001b[38;5;124mPeriodo\u001b[39m\u001b[38;5;124m'\u001b[39m]][map_excel_categoria[row[\u001b[38;5;124m'\u001b[39m\u001b[38;5;124mIndicadores de renta media y mediana\u001b[39m\u001b[38;5;124m'\u001b[39m]]] \u001b[38;5;241m=\u001b[39m row[\u001b[38;5;124m'\u001b[39m\u001b[38;5;124mTotal\u001b[39m\u001b[38;5;124m'\u001b[39m]\n",
      "\u001b[0;31mIndexError\u001b[0m: list assignment index out of range"
     ]
    }
   ],
   "source": [
    "for url in urls_ine['renta_media_mediana']:\n",
    "    temp_df = pd.read_csv(url, sep=\";\", encoding=\"utf-8-sig\", decimal=\",\")\n",
    "\n",
    "    for index, row in temp_df.iterrows():\n",
    "        # Només els que tinguin totes les dades\n",
    "        if pd.notna(row['Secciones']) and row['Secciones'] != '' and row['Secciones'] != None:\n",
    "            seccio = row['Secciones'].split()[0]\n",
    "            # Validem estructura\n",
    "            if not seccio in res:\n",
    "                res[seccio] = {\n",
    "                    'codi_districte': seccio,\n",
    "                    'codi_postal': row['Municipios'].split()[0],\n",
    "                    'poblacio': row['Municipios'].split()[1],\n",
    "                    'years': {}\n",
    "                }\n",
    "            \n",
    "            if not row['Periodo'] in res[seccio]['years']:\n",
    "                res[seccio]['years'][row['Periodo']] = {\n",
    "                    'renta_neta_mitja_por_persona': None,\n",
    "                    'renta_neta_mitja_por_hogar': None,\n",
    "                    'renta_mitja_por_unitat_consum': None,\n",
    "                    'renta_mediana_por_unitat_consum': None,\n",
    "                    'renta_bruta_mitja_por_persona': None,\n",
    "                    'renta_bruta_mitja_por_hogar': None,\n",
    "                    'renta_bruta_mitja_por_persona_fuente_salario': None,\n",
    "                    'renta_bruta_mitja_por_persona_fuente_pensiones': None,\n",
    "                    'renta_bruta_mitja_por_persona_fuente_desempleo': None,\n",
    "                    'renta_bruta_mitja_por_persona_fuente_otras_prestaciones': None,\n",
    "                    'renta_bruta_mitja_por_persona_fuente_otros_ingresos': None,\n",
    "                    'indice_gini': None,\n",
    "                    'distribucion_renta_p80_p20': None,\n",
    "                    'edad_media_poblacion': None,\n",
    "                    'prcnt_poblacion_menor_edad': None,\n",
    "                    'prcnt_poblacion_mas_65_anos': None,\n",
    "                    'tamano_medio_hogar': None,\n",
    "                    'prcnt_hogares_unipersonales': None,\n",
    "                    'poblacion_habitantes': None,\n",
    "                    'prcnt_poblacion_espanola': None,\n",
    "                }\n",
    "\n",
    "            # Processem les dades\n",
    "            res[seccio]['years'][row['Periodo']][map_excel_categoria[row['Indicadores de renta media y mediana']]] = row['Total']"
   ]
  },
  {
   "cell_type": "code",
   "execution_count": null,
   "metadata": {},
   "outputs": [],
   "source": []
  }
 ],
 "metadata": {
  "kernelspec": {
   "display_name": "Python 3",
   "language": "python",
   "name": "python3"
  },
  "language_info": {
   "codemirror_mode": {
    "name": "ipython",
    "version": 3
   },
   "file_extension": ".py",
   "mimetype": "text/x-python",
   "name": "python",
   "nbconvert_exporter": "python",
   "pygments_lexer": "ipython3",
   "version": "3.9.6"
  }
 },
 "nbformat": 4,
 "nbformat_minor": 2
}
