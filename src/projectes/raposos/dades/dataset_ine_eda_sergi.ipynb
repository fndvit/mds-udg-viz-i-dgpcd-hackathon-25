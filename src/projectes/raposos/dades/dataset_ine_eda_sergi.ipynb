{
 "cells": [
  {
   "cell_type": "markdown",
   "metadata": {},
   "source": [
    "Imports"
   ]
  },
  {
   "cell_type": "code",
   "execution_count": 2,
   "metadata": {},
   "outputs": [],
   "source": [
    "import pandas as pd"
   ]
  },
  {
   "cell_type": "code",
   "execution_count": null,
   "metadata": {},
   "outputs": [],
   "source": [
    "dataset_ine = pd.read_csv('dataset_ine.csv')"
   ]
  },
  {
   "cell_type": "markdown",
   "metadata": {},
   "source": [
    "Info de cada variable"
   ]
  },
  {
   "cell_type": "code",
   "execution_count": 3,
   "metadata": {},
   "outputs": [
    {
     "name": "stdout",
     "output_type": "stream",
     "text": [
      "<class 'pandas.core.frame.DataFrame'>\n",
      "RangeIndex: 41184 entries, 0 to 41183\n",
      "Data columns (total 24 columns):\n",
      " #   Column                                                   Non-Null Count  Dtype  \n",
      "---  ------                                                   --------------  -----  \n",
      " 0   codi_districte                                           41184 non-null  int64  \n",
      " 1   codi_postal                                              41184 non-null  int64  \n",
      " 2   poblacio                                                 41184 non-null  object \n",
      " 3   year                                                     41184 non-null  int64  \n",
      " 4   renta_neta_mitja_por_persona                             40290 non-null  float64\n",
      " 5   renta_neta_mitja_por_hogar                               40290 non-null  float64\n",
      " 6   renta_mitja_por_unitat_consum                            40158 non-null  float64\n",
      " 7   renta_mediana_por_unitat_consum                          40158 non-null  float64\n",
      " 8   renta_bruta_mitja_por_persona                            40288 non-null  float64\n",
      " 9   renta_bruta_mitja_por_hogar                              40288 non-null  float64\n",
      " 10  renta_bruta_mitja_por_persona_fuente_salario             40107 non-null  float64\n",
      " 11  renta_bruta_mitja_por_persona_fuente_pensiones           40107 non-null  float64\n",
      " 12  renta_bruta_mitja_por_persona_fuente_desempleo           40107 non-null  float64\n",
      " 13  renta_bruta_mitja_por_persona_fuente_otras_prestaciones  40107 non-null  float64\n",
      " 14  renta_bruta_mitja_por_persona_fuente_otros_ingresos      40107 non-null  float64\n",
      " 15  indice_gini                                              40133 non-null  float64\n",
      " 16  distribucion_renta_p80_p20                               40138 non-null  float64\n",
      " 17  edad_media_poblacion                                     40309 non-null  float64\n",
      " 18  prcnt_poblacion_menor_edad                               40309 non-null  float64\n",
      " 19  prcnt_poblacion_mas_65_anos                              40309 non-null  float64\n",
      " 20  tamano_medio_hogar                                       40309 non-null  float64\n",
      " 21  prcnt_hogares_unipersonales                              40309 non-null  float64\n",
      " 22  poblacion_habitantes                                     40309 non-null  float64\n",
      " 23  prcnt_poblacion_espanola                                 40306 non-null  float64\n",
      "dtypes: float64(20), int64(3), object(1)\n",
      "memory usage: 7.5+ MB\n"
     ]
    }
   ],
   "source": [
    "dataset_ine.info()"
   ]
  },
  {
   "cell_type": "markdown",
   "metadata": {},
   "source": [
    "Mida: 24 variables i 41184 registres"
   ]
  },
  {
   "cell_type": "code",
   "execution_count": 7,
   "metadata": {},
   "outputs": [
    {
     "data": {
      "text/plain": [
       "(41184, 24)"
      ]
     },
     "execution_count": 7,
     "metadata": {},
     "output_type": "execute_result"
    }
   ],
   "source": [
    "dataset_ine.shape"
   ]
  },
  {
   "cell_type": "markdown",
   "metadata": {},
   "source": [
    "Mostra dels primers 5 registres"
   ]
  },
  {
   "cell_type": "code",
   "execution_count": 13,
   "metadata": {},
   "outputs": [
    {
     "data": {
      "text/html": [
       "<div>\n",
       "<style scoped>\n",
       "    .dataframe tbody tr th:only-of-type {\n",
       "        vertical-align: middle;\n",
       "    }\n",
       "\n",
       "    .dataframe tbody tr th {\n",
       "        vertical-align: top;\n",
       "    }\n",
       "\n",
       "    .dataframe thead th {\n",
       "        text-align: right;\n",
       "    }\n",
       "</style>\n",
       "<table border=\"1\" class=\"dataframe\">\n",
       "  <thead>\n",
       "    <tr style=\"text-align: right;\">\n",
       "      <th></th>\n",
       "      <th>codi_districte</th>\n",
       "      <th>codi_postal</th>\n",
       "      <th>poblacio</th>\n",
       "      <th>year</th>\n",
       "      <th>renta_neta_mitja_por_persona</th>\n",
       "      <th>renta_neta_mitja_por_hogar</th>\n",
       "      <th>renta_mitja_por_unitat_consum</th>\n",
       "      <th>renta_mediana_por_unitat_consum</th>\n",
       "      <th>renta_bruta_mitja_por_persona</th>\n",
       "      <th>renta_bruta_mitja_por_hogar</th>\n",
       "      <th>...</th>\n",
       "      <th>renta_bruta_mitja_por_persona_fuente_otros_ingresos</th>\n",
       "      <th>indice_gini</th>\n",
       "      <th>distribucion_renta_p80_p20</th>\n",
       "      <th>edad_media_poblacion</th>\n",
       "      <th>prcnt_poblacion_menor_edad</th>\n",
       "      <th>prcnt_poblacion_mas_65_anos</th>\n",
       "      <th>tamano_medio_hogar</th>\n",
       "      <th>prcnt_hogares_unipersonales</th>\n",
       "      <th>poblacion_habitantes</th>\n",
       "      <th>prcnt_poblacion_espanola</th>\n",
       "    </tr>\n",
       "  </thead>\n",
       "  <tbody>\n",
       "    <tr>\n",
       "      <th>0</th>\n",
       "      <td>1700101001</td>\n",
       "      <td>17001</td>\n",
       "      <td>Agullana</td>\n",
       "      <td>2022</td>\n",
       "      <td>19392.0</td>\n",
       "      <td>50407.0</td>\n",
       "      <td>28845.0</td>\n",
       "      <td>19950.0</td>\n",
       "      <td>27842.0</td>\n",
       "      <td>72374.0</td>\n",
       "      <td>...</td>\n",
       "      <td>11688.0</td>\n",
       "      <td>30.8</td>\n",
       "      <td>2.7</td>\n",
       "      <td>44.0</td>\n",
       "      <td>19.1</td>\n",
       "      <td>20.6</td>\n",
       "      <td>2.6</td>\n",
       "      <td>26.3</td>\n",
       "      <td>921.0</td>\n",
       "      <td>83.8</td>\n",
       "    </tr>\n",
       "    <tr>\n",
       "      <th>1</th>\n",
       "      <td>1700101001</td>\n",
       "      <td>17001</td>\n",
       "      <td>Agullana</td>\n",
       "      <td>2021</td>\n",
       "      <td>15642.0</td>\n",
       "      <td>39854.0</td>\n",
       "      <td>23693.0</td>\n",
       "      <td>19250.0</td>\n",
       "      <td>20853.0</td>\n",
       "      <td>53129.0</td>\n",
       "      <td>...</td>\n",
       "      <td>5391.0</td>\n",
       "      <td>30.7</td>\n",
       "      <td>2.5</td>\n",
       "      <td>43.4</td>\n",
       "      <td>19.3</td>\n",
       "      <td>20.2</td>\n",
       "      <td>2.5</td>\n",
       "      <td>29.3</td>\n",
       "      <td>893.0</td>\n",
       "      <td>83.5</td>\n",
       "    </tr>\n",
       "    <tr>\n",
       "      <th>2</th>\n",
       "      <td>1700101001</td>\n",
       "      <td>17001</td>\n",
       "      <td>Agullana</td>\n",
       "      <td>2020</td>\n",
       "      <td>13498.0</td>\n",
       "      <td>34421.0</td>\n",
       "      <td>20669.0</td>\n",
       "      <td>17850.0</td>\n",
       "      <td>16650.0</td>\n",
       "      <td>42457.0</td>\n",
       "      <td>...</td>\n",
       "      <td>2098.0</td>\n",
       "      <td>30.8</td>\n",
       "      <td>2.6</td>\n",
       "      <td>43.6</td>\n",
       "      <td>18.1</td>\n",
       "      <td>21.2</td>\n",
       "      <td>2.5</td>\n",
       "      <td>29.4</td>\n",
       "      <td>888.0</td>\n",
       "      <td>82.6</td>\n",
       "    </tr>\n",
       "    <tr>\n",
       "      <th>3</th>\n",
       "      <td>1700101001</td>\n",
       "      <td>17001</td>\n",
       "      <td>Agullana</td>\n",
       "      <td>2019</td>\n",
       "      <td>14657.0</td>\n",
       "      <td>36909.0</td>\n",
       "      <td>21907.0</td>\n",
       "      <td>17850.0</td>\n",
       "      <td>18568.0</td>\n",
       "      <td>46757.0</td>\n",
       "      <td>...</td>\n",
       "      <td>3981.0</td>\n",
       "      <td>30.9</td>\n",
       "      <td>2.4</td>\n",
       "      <td>43.7</td>\n",
       "      <td>18.3</td>\n",
       "      <td>21.2</td>\n",
       "      <td>2.5</td>\n",
       "      <td>28.5</td>\n",
       "      <td>858.0</td>\n",
       "      <td>83.1</td>\n",
       "    </tr>\n",
       "    <tr>\n",
       "      <th>4</th>\n",
       "      <td>1700101001</td>\n",
       "      <td>17001</td>\n",
       "      <td>Agullana</td>\n",
       "      <td>2018</td>\n",
       "      <td>14209.0</td>\n",
       "      <td>35371.0</td>\n",
       "      <td>20930.0</td>\n",
       "      <td>17150.0</td>\n",
       "      <td>17936.0</td>\n",
       "      <td>44647.0</td>\n",
       "      <td>...</td>\n",
       "      <td>4181.0</td>\n",
       "      <td>31.8</td>\n",
       "      <td>2.4</td>\n",
       "      <td>43.9</td>\n",
       "      <td>18.1</td>\n",
       "      <td>21.8</td>\n",
       "      <td>2.5</td>\n",
       "      <td>31.6</td>\n",
       "      <td>830.0</td>\n",
       "      <td>84.5</td>\n",
       "    </tr>\n",
       "  </tbody>\n",
       "</table>\n",
       "<p>5 rows × 24 columns</p>\n",
       "</div>"
      ],
      "text/plain": [
       "   codi_districte  codi_postal  poblacio  year  renta_neta_mitja_por_persona  \\\n",
       "0      1700101001        17001  Agullana  2022                       19392.0   \n",
       "1      1700101001        17001  Agullana  2021                       15642.0   \n",
       "2      1700101001        17001  Agullana  2020                       13498.0   \n",
       "3      1700101001        17001  Agullana  2019                       14657.0   \n",
       "4      1700101001        17001  Agullana  2018                       14209.0   \n",
       "\n",
       "   renta_neta_mitja_por_hogar  renta_mitja_por_unitat_consum  \\\n",
       "0                     50407.0                        28845.0   \n",
       "1                     39854.0                        23693.0   \n",
       "2                     34421.0                        20669.0   \n",
       "3                     36909.0                        21907.0   \n",
       "4                     35371.0                        20930.0   \n",
       "\n",
       "   renta_mediana_por_unitat_consum  renta_bruta_mitja_por_persona  \\\n",
       "0                          19950.0                        27842.0   \n",
       "1                          19250.0                        20853.0   \n",
       "2                          17850.0                        16650.0   \n",
       "3                          17850.0                        18568.0   \n",
       "4                          17150.0                        17936.0   \n",
       "\n",
       "   renta_bruta_mitja_por_hogar  ...  \\\n",
       "0                      72374.0  ...   \n",
       "1                      53129.0  ...   \n",
       "2                      42457.0  ...   \n",
       "3                      46757.0  ...   \n",
       "4                      44647.0  ...   \n",
       "\n",
       "   renta_bruta_mitja_por_persona_fuente_otros_ingresos  indice_gini  \\\n",
       "0                                            11688.0           30.8   \n",
       "1                                             5391.0           30.7   \n",
       "2                                             2098.0           30.8   \n",
       "3                                             3981.0           30.9   \n",
       "4                                             4181.0           31.8   \n",
       "\n",
       "   distribucion_renta_p80_p20  edad_media_poblacion  \\\n",
       "0                         2.7                  44.0   \n",
       "1                         2.5                  43.4   \n",
       "2                         2.6                  43.6   \n",
       "3                         2.4                  43.7   \n",
       "4                         2.4                  43.9   \n",
       "\n",
       "   prcnt_poblacion_menor_edad  prcnt_poblacion_mas_65_anos  \\\n",
       "0                        19.1                         20.6   \n",
       "1                        19.3                         20.2   \n",
       "2                        18.1                         21.2   \n",
       "3                        18.3                         21.2   \n",
       "4                        18.1                         21.8   \n",
       "\n",
       "   tamano_medio_hogar  prcnt_hogares_unipersonales  poblacion_habitantes  \\\n",
       "0                 2.6                         26.3                 921.0   \n",
       "1                 2.5                         29.3                 893.0   \n",
       "2                 2.5                         29.4                 888.0   \n",
       "3                 2.5                         28.5                 858.0   \n",
       "4                 2.5                         31.6                 830.0   \n",
       "\n",
       "   prcnt_poblacion_espanola  \n",
       "0                      83.8  \n",
       "1                      83.5  \n",
       "2                      82.6  \n",
       "3                      83.1  \n",
       "4                      84.5  \n",
       "\n",
       "[5 rows x 24 columns]"
      ]
     },
     "execution_count": 13,
     "metadata": {},
     "output_type": "execute_result"
    }
   ],
   "source": [
    "dataset_ine.head()"
   ]
  },
  {
   "cell_type": "markdown",
   "metadata": {},
   "source": [
    "No hi han duplicats"
   ]
  },
  {
   "cell_type": "code",
   "execution_count": 14,
   "metadata": {},
   "outputs": [
    {
     "data": {
      "text/plain": [
       "0"
      ]
     },
     "execution_count": 14,
     "metadata": {},
     "output_type": "execute_result"
    }
   ],
   "source": [
    "dataset_ine.duplicated().sum()"
   ]
  },
  {
   "cell_type": "markdown",
   "metadata": {},
   "source": [
    "Tenim valors null a diferents columnes"
   ]
  },
  {
   "cell_type": "code",
   "execution_count": 15,
   "metadata": {},
   "outputs": [
    {
     "data": {
      "text/plain": [
       "codi_districte                                                0\n",
       "codi_postal                                                   0\n",
       "poblacio                                                      0\n",
       "year                                                          0\n",
       "renta_neta_mitja_por_persona                                894\n",
       "renta_neta_mitja_por_hogar                                  894\n",
       "renta_mitja_por_unitat_consum                              1026\n",
       "renta_mediana_por_unitat_consum                            1026\n",
       "renta_bruta_mitja_por_persona                               896\n",
       "renta_bruta_mitja_por_hogar                                 896\n",
       "renta_bruta_mitja_por_persona_fuente_salario               1077\n",
       "renta_bruta_mitja_por_persona_fuente_pensiones             1077\n",
       "renta_bruta_mitja_por_persona_fuente_desempleo             1077\n",
       "renta_bruta_mitja_por_persona_fuente_otras_prestaciones    1077\n",
       "renta_bruta_mitja_por_persona_fuente_otros_ingresos        1077\n",
       "indice_gini                                                1051\n",
       "distribucion_renta_p80_p20                                 1046\n",
       "edad_media_poblacion                                        875\n",
       "prcnt_poblacion_menor_edad                                  875\n",
       "prcnt_poblacion_mas_65_anos                                 875\n",
       "tamano_medio_hogar                                          875\n",
       "prcnt_hogares_unipersonales                                 875\n",
       "poblacion_habitantes                                        875\n",
       "prcnt_poblacion_espanola                                    878\n",
       "dtype: int64"
      ]
     },
     "execution_count": 15,
     "metadata": {},
     "output_type": "execute_result"
    }
   ],
   "source": [
    "dataset_ine.isnull().sum()  "
   ]
  },
  {
   "cell_type": "markdown",
   "metadata": {},
   "source": [
    "Certificats"
   ]
  },
  {
   "cell_type": "code",
   "execution_count": 33,
   "metadata": {},
   "outputs": [
    {
     "name": "stderr",
     "output_type": "stream",
     "text": [
      "C:\\Users\\sergi\\AppData\\Local\\Temp\\ipykernel_20320\\2710450233.py:1: DtypeWarning: Columns (2,65) have mixed types. Specify dtype option on import or set low_memory=False.\n",
      "  dataset_certificats = pd.read_csv('certificats.csv')\n"
     ]
    }
   ],
   "source": [
    "dataset_certificats = pd.read_csv('certificats.csv')"
   ]
  },
  {
   "cell_type": "markdown",
   "metadata": {},
   "source": [
    "Agrupem certificats per districte (Codi mundissec). Fem la mitjana dels altres valors numerics."
   ]
  },
  {
   "cell_type": "code",
   "execution_count": 37,
   "metadata": {},
   "outputs": [],
   "source": [
    "dataset_certificats[\"mundissec\"] = dataset_certificats[\"mundissec\"].astype(str)\n",
    "grouped_data = dataset_certificats.groupby(\"mundissec\").mean(numeric_only=True).reset_index()\n",
    "grouped_data[\"mundissec\"] = grouped_data[\"mundissec\"].astype(str)  # Evita el \".0\""
   ]
  },
  {
   "cell_type": "code",
   "execution_count": null,
   "metadata": {},
   "outputs": [
    {
     "data": {
      "text/plain": [
       "0          8001801001.0\n",
       "1          8001801001.0\n",
       "2          8001801001.0\n",
       "3          8001801001.0\n",
       "4          8001801001.0\n",
       "               ...     \n",
       "1336920             nan\n",
       "1336921             nan\n",
       "1336922             nan\n",
       "1336923             nan\n",
       "1336924             nan\n",
       "Name: mundissec, Length: 1336925, dtype: object"
      ]
     },
     "execution_count": 40,
     "metadata": {},
     "output_type": "execute_result"
    }
   ],
   "source": [
    "grouped_data"
   ]
  },
  {
   "cell_type": "code",
   "execution_count": null,
   "metadata": {},
   "outputs": [
    {
     "ename": "FileNotFoundError",
     "evalue": "[Errno 2] No such file or directory: '../../../../dades/raposos/mapa_socioeconomic.csv'",
     "output_type": "error",
     "traceback": [
      "\u001b[1;31m---------------------------------------------------------------------------\u001b[0m",
      "\u001b[1;31mFileNotFoundError\u001b[0m                         Traceback (most recent call last)",
      "Cell \u001b[1;32mIn[42], line 1\u001b[0m\n\u001b[1;32m----> 1\u001b[0m mapa_socioeconomic \u001b[38;5;241m=\u001b[39m \u001b[43mpd\u001b[49m\u001b[38;5;241;43m.\u001b[39;49m\u001b[43mread_csv\u001b[49m\u001b[43m(\u001b[49m\u001b[38;5;124;43m\"\u001b[39;49m\u001b[38;5;124;43m../../../../dades/raposos/mapa_socioeconomic.csv\u001b[39;49m\u001b[38;5;124;43m\"\u001b[39;49m\u001b[43m)\u001b[49m\n",
      "File \u001b[1;32mc:\\Users\\sergi\\AppData\\Local\\Programs\\Python\\Python312\\Lib\\site-packages\\pandas\\io\\parsers\\readers.py:1026\u001b[0m, in \u001b[0;36mread_csv\u001b[1;34m(filepath_or_buffer, sep, delimiter, header, names, index_col, usecols, dtype, engine, converters, true_values, false_values, skipinitialspace, skiprows, skipfooter, nrows, na_values, keep_default_na, na_filter, verbose, skip_blank_lines, parse_dates, infer_datetime_format, keep_date_col, date_parser, date_format, dayfirst, cache_dates, iterator, chunksize, compression, thousands, decimal, lineterminator, quotechar, quoting, doublequote, escapechar, comment, encoding, encoding_errors, dialect, on_bad_lines, delim_whitespace, low_memory, memory_map, float_precision, storage_options, dtype_backend)\u001b[0m\n\u001b[0;32m   1013\u001b[0m kwds_defaults \u001b[38;5;241m=\u001b[39m _refine_defaults_read(\n\u001b[0;32m   1014\u001b[0m     dialect,\n\u001b[0;32m   1015\u001b[0m     delimiter,\n\u001b[1;32m   (...)\u001b[0m\n\u001b[0;32m   1022\u001b[0m     dtype_backend\u001b[38;5;241m=\u001b[39mdtype_backend,\n\u001b[0;32m   1023\u001b[0m )\n\u001b[0;32m   1024\u001b[0m kwds\u001b[38;5;241m.\u001b[39mupdate(kwds_defaults)\n\u001b[1;32m-> 1026\u001b[0m \u001b[38;5;28;01mreturn\u001b[39;00m \u001b[43m_read\u001b[49m\u001b[43m(\u001b[49m\u001b[43mfilepath_or_buffer\u001b[49m\u001b[43m,\u001b[49m\u001b[43m \u001b[49m\u001b[43mkwds\u001b[49m\u001b[43m)\u001b[49m\n",
      "File \u001b[1;32mc:\\Users\\sergi\\AppData\\Local\\Programs\\Python\\Python312\\Lib\\site-packages\\pandas\\io\\parsers\\readers.py:620\u001b[0m, in \u001b[0;36m_read\u001b[1;34m(filepath_or_buffer, kwds)\u001b[0m\n\u001b[0;32m    617\u001b[0m _validate_names(kwds\u001b[38;5;241m.\u001b[39mget(\u001b[38;5;124m\"\u001b[39m\u001b[38;5;124mnames\u001b[39m\u001b[38;5;124m\"\u001b[39m, \u001b[38;5;28;01mNone\u001b[39;00m))\n\u001b[0;32m    619\u001b[0m \u001b[38;5;66;03m# Create the parser.\u001b[39;00m\n\u001b[1;32m--> 620\u001b[0m parser \u001b[38;5;241m=\u001b[39m \u001b[43mTextFileReader\u001b[49m\u001b[43m(\u001b[49m\u001b[43mfilepath_or_buffer\u001b[49m\u001b[43m,\u001b[49m\u001b[43m \u001b[49m\u001b[38;5;241;43m*\u001b[39;49m\u001b[38;5;241;43m*\u001b[39;49m\u001b[43mkwds\u001b[49m\u001b[43m)\u001b[49m\n\u001b[0;32m    622\u001b[0m \u001b[38;5;28;01mif\u001b[39;00m chunksize \u001b[38;5;129;01mor\u001b[39;00m iterator:\n\u001b[0;32m    623\u001b[0m     \u001b[38;5;28;01mreturn\u001b[39;00m parser\n",
      "File \u001b[1;32mc:\\Users\\sergi\\AppData\\Local\\Programs\\Python\\Python312\\Lib\\site-packages\\pandas\\io\\parsers\\readers.py:1620\u001b[0m, in \u001b[0;36mTextFileReader.__init__\u001b[1;34m(self, f, engine, **kwds)\u001b[0m\n\u001b[0;32m   1617\u001b[0m     \u001b[38;5;28mself\u001b[39m\u001b[38;5;241m.\u001b[39moptions[\u001b[38;5;124m\"\u001b[39m\u001b[38;5;124mhas_index_names\u001b[39m\u001b[38;5;124m\"\u001b[39m] \u001b[38;5;241m=\u001b[39m kwds[\u001b[38;5;124m\"\u001b[39m\u001b[38;5;124mhas_index_names\u001b[39m\u001b[38;5;124m\"\u001b[39m]\n\u001b[0;32m   1619\u001b[0m \u001b[38;5;28mself\u001b[39m\u001b[38;5;241m.\u001b[39mhandles: IOHandles \u001b[38;5;241m|\u001b[39m \u001b[38;5;28;01mNone\u001b[39;00m \u001b[38;5;241m=\u001b[39m \u001b[38;5;28;01mNone\u001b[39;00m\n\u001b[1;32m-> 1620\u001b[0m \u001b[38;5;28mself\u001b[39m\u001b[38;5;241m.\u001b[39m_engine \u001b[38;5;241m=\u001b[39m \u001b[38;5;28;43mself\u001b[39;49m\u001b[38;5;241;43m.\u001b[39;49m\u001b[43m_make_engine\u001b[49m\u001b[43m(\u001b[49m\u001b[43mf\u001b[49m\u001b[43m,\u001b[49m\u001b[43m \u001b[49m\u001b[38;5;28;43mself\u001b[39;49m\u001b[38;5;241;43m.\u001b[39;49m\u001b[43mengine\u001b[49m\u001b[43m)\u001b[49m\n",
      "File \u001b[1;32mc:\\Users\\sergi\\AppData\\Local\\Programs\\Python\\Python312\\Lib\\site-packages\\pandas\\io\\parsers\\readers.py:1880\u001b[0m, in \u001b[0;36mTextFileReader._make_engine\u001b[1;34m(self, f, engine)\u001b[0m\n\u001b[0;32m   1878\u001b[0m     \u001b[38;5;28;01mif\u001b[39;00m \u001b[38;5;124m\"\u001b[39m\u001b[38;5;124mb\u001b[39m\u001b[38;5;124m\"\u001b[39m \u001b[38;5;129;01mnot\u001b[39;00m \u001b[38;5;129;01min\u001b[39;00m mode:\n\u001b[0;32m   1879\u001b[0m         mode \u001b[38;5;241m+\u001b[39m\u001b[38;5;241m=\u001b[39m \u001b[38;5;124m\"\u001b[39m\u001b[38;5;124mb\u001b[39m\u001b[38;5;124m\"\u001b[39m\n\u001b[1;32m-> 1880\u001b[0m \u001b[38;5;28mself\u001b[39m\u001b[38;5;241m.\u001b[39mhandles \u001b[38;5;241m=\u001b[39m \u001b[43mget_handle\u001b[49m\u001b[43m(\u001b[49m\n\u001b[0;32m   1881\u001b[0m \u001b[43m    \u001b[49m\u001b[43mf\u001b[49m\u001b[43m,\u001b[49m\n\u001b[0;32m   1882\u001b[0m \u001b[43m    \u001b[49m\u001b[43mmode\u001b[49m\u001b[43m,\u001b[49m\n\u001b[0;32m   1883\u001b[0m \u001b[43m    \u001b[49m\u001b[43mencoding\u001b[49m\u001b[38;5;241;43m=\u001b[39;49m\u001b[38;5;28;43mself\u001b[39;49m\u001b[38;5;241;43m.\u001b[39;49m\u001b[43moptions\u001b[49m\u001b[38;5;241;43m.\u001b[39;49m\u001b[43mget\u001b[49m\u001b[43m(\u001b[49m\u001b[38;5;124;43m\"\u001b[39;49m\u001b[38;5;124;43mencoding\u001b[39;49m\u001b[38;5;124;43m\"\u001b[39;49m\u001b[43m,\u001b[49m\u001b[43m \u001b[49m\u001b[38;5;28;43;01mNone\u001b[39;49;00m\u001b[43m)\u001b[49m\u001b[43m,\u001b[49m\n\u001b[0;32m   1884\u001b[0m \u001b[43m    \u001b[49m\u001b[43mcompression\u001b[49m\u001b[38;5;241;43m=\u001b[39;49m\u001b[38;5;28;43mself\u001b[39;49m\u001b[38;5;241;43m.\u001b[39;49m\u001b[43moptions\u001b[49m\u001b[38;5;241;43m.\u001b[39;49m\u001b[43mget\u001b[49m\u001b[43m(\u001b[49m\u001b[38;5;124;43m\"\u001b[39;49m\u001b[38;5;124;43mcompression\u001b[39;49m\u001b[38;5;124;43m\"\u001b[39;49m\u001b[43m,\u001b[49m\u001b[43m \u001b[49m\u001b[38;5;28;43;01mNone\u001b[39;49;00m\u001b[43m)\u001b[49m\u001b[43m,\u001b[49m\n\u001b[0;32m   1885\u001b[0m \u001b[43m    \u001b[49m\u001b[43mmemory_map\u001b[49m\u001b[38;5;241;43m=\u001b[39;49m\u001b[38;5;28;43mself\u001b[39;49m\u001b[38;5;241;43m.\u001b[39;49m\u001b[43moptions\u001b[49m\u001b[38;5;241;43m.\u001b[39;49m\u001b[43mget\u001b[49m\u001b[43m(\u001b[49m\u001b[38;5;124;43m\"\u001b[39;49m\u001b[38;5;124;43mmemory_map\u001b[39;49m\u001b[38;5;124;43m\"\u001b[39;49m\u001b[43m,\u001b[49m\u001b[43m \u001b[49m\u001b[38;5;28;43;01mFalse\u001b[39;49;00m\u001b[43m)\u001b[49m\u001b[43m,\u001b[49m\n\u001b[0;32m   1886\u001b[0m \u001b[43m    \u001b[49m\u001b[43mis_text\u001b[49m\u001b[38;5;241;43m=\u001b[39;49m\u001b[43mis_text\u001b[49m\u001b[43m,\u001b[49m\n\u001b[0;32m   1887\u001b[0m \u001b[43m    \u001b[49m\u001b[43merrors\u001b[49m\u001b[38;5;241;43m=\u001b[39;49m\u001b[38;5;28;43mself\u001b[39;49m\u001b[38;5;241;43m.\u001b[39;49m\u001b[43moptions\u001b[49m\u001b[38;5;241;43m.\u001b[39;49m\u001b[43mget\u001b[49m\u001b[43m(\u001b[49m\u001b[38;5;124;43m\"\u001b[39;49m\u001b[38;5;124;43mencoding_errors\u001b[39;49m\u001b[38;5;124;43m\"\u001b[39;49m\u001b[43m,\u001b[49m\u001b[43m \u001b[49m\u001b[38;5;124;43m\"\u001b[39;49m\u001b[38;5;124;43mstrict\u001b[39;49m\u001b[38;5;124;43m\"\u001b[39;49m\u001b[43m)\u001b[49m\u001b[43m,\u001b[49m\n\u001b[0;32m   1888\u001b[0m \u001b[43m    \u001b[49m\u001b[43mstorage_options\u001b[49m\u001b[38;5;241;43m=\u001b[39;49m\u001b[38;5;28;43mself\u001b[39;49m\u001b[38;5;241;43m.\u001b[39;49m\u001b[43moptions\u001b[49m\u001b[38;5;241;43m.\u001b[39;49m\u001b[43mget\u001b[49m\u001b[43m(\u001b[49m\u001b[38;5;124;43m\"\u001b[39;49m\u001b[38;5;124;43mstorage_options\u001b[39;49m\u001b[38;5;124;43m\"\u001b[39;49m\u001b[43m,\u001b[49m\u001b[43m \u001b[49m\u001b[38;5;28;43;01mNone\u001b[39;49;00m\u001b[43m)\u001b[49m\u001b[43m,\u001b[49m\n\u001b[0;32m   1889\u001b[0m \u001b[43m\u001b[49m\u001b[43m)\u001b[49m\n\u001b[0;32m   1890\u001b[0m \u001b[38;5;28;01massert\u001b[39;00m \u001b[38;5;28mself\u001b[39m\u001b[38;5;241m.\u001b[39mhandles \u001b[38;5;129;01mis\u001b[39;00m \u001b[38;5;129;01mnot\u001b[39;00m \u001b[38;5;28;01mNone\u001b[39;00m\n\u001b[0;32m   1891\u001b[0m f \u001b[38;5;241m=\u001b[39m \u001b[38;5;28mself\u001b[39m\u001b[38;5;241m.\u001b[39mhandles\u001b[38;5;241m.\u001b[39mhandle\n",
      "File \u001b[1;32mc:\\Users\\sergi\\AppData\\Local\\Programs\\Python\\Python312\\Lib\\site-packages\\pandas\\io\\common.py:873\u001b[0m, in \u001b[0;36mget_handle\u001b[1;34m(path_or_buf, mode, encoding, compression, memory_map, is_text, errors, storage_options)\u001b[0m\n\u001b[0;32m    868\u001b[0m \u001b[38;5;28;01melif\u001b[39;00m \u001b[38;5;28misinstance\u001b[39m(handle, \u001b[38;5;28mstr\u001b[39m):\n\u001b[0;32m    869\u001b[0m     \u001b[38;5;66;03m# Check whether the filename is to be opened in binary mode.\u001b[39;00m\n\u001b[0;32m    870\u001b[0m     \u001b[38;5;66;03m# Binary mode does not support 'encoding' and 'newline'.\u001b[39;00m\n\u001b[0;32m    871\u001b[0m     \u001b[38;5;28;01mif\u001b[39;00m ioargs\u001b[38;5;241m.\u001b[39mencoding \u001b[38;5;129;01mand\u001b[39;00m \u001b[38;5;124m\"\u001b[39m\u001b[38;5;124mb\u001b[39m\u001b[38;5;124m\"\u001b[39m \u001b[38;5;129;01mnot\u001b[39;00m \u001b[38;5;129;01min\u001b[39;00m ioargs\u001b[38;5;241m.\u001b[39mmode:\n\u001b[0;32m    872\u001b[0m         \u001b[38;5;66;03m# Encoding\u001b[39;00m\n\u001b[1;32m--> 873\u001b[0m         handle \u001b[38;5;241m=\u001b[39m \u001b[38;5;28;43mopen\u001b[39;49m\u001b[43m(\u001b[49m\n\u001b[0;32m    874\u001b[0m \u001b[43m            \u001b[49m\u001b[43mhandle\u001b[49m\u001b[43m,\u001b[49m\n\u001b[0;32m    875\u001b[0m \u001b[43m            \u001b[49m\u001b[43mioargs\u001b[49m\u001b[38;5;241;43m.\u001b[39;49m\u001b[43mmode\u001b[49m\u001b[43m,\u001b[49m\n\u001b[0;32m    876\u001b[0m \u001b[43m            \u001b[49m\u001b[43mencoding\u001b[49m\u001b[38;5;241;43m=\u001b[39;49m\u001b[43mioargs\u001b[49m\u001b[38;5;241;43m.\u001b[39;49m\u001b[43mencoding\u001b[49m\u001b[43m,\u001b[49m\n\u001b[0;32m    877\u001b[0m \u001b[43m            \u001b[49m\u001b[43merrors\u001b[49m\u001b[38;5;241;43m=\u001b[39;49m\u001b[43merrors\u001b[49m\u001b[43m,\u001b[49m\n\u001b[0;32m    878\u001b[0m \u001b[43m            \u001b[49m\u001b[43mnewline\u001b[49m\u001b[38;5;241;43m=\u001b[39;49m\u001b[38;5;124;43m\"\u001b[39;49m\u001b[38;5;124;43m\"\u001b[39;49m\u001b[43m,\u001b[49m\n\u001b[0;32m    879\u001b[0m \u001b[43m        \u001b[49m\u001b[43m)\u001b[49m\n\u001b[0;32m    880\u001b[0m     \u001b[38;5;28;01melse\u001b[39;00m:\n\u001b[0;32m    881\u001b[0m         \u001b[38;5;66;03m# Binary mode\u001b[39;00m\n\u001b[0;32m    882\u001b[0m         handle \u001b[38;5;241m=\u001b[39m \u001b[38;5;28mopen\u001b[39m(handle, ioargs\u001b[38;5;241m.\u001b[39mmode)\n",
      "\u001b[1;31mFileNotFoundError\u001b[0m: [Errno 2] No such file or directory: '../../../../dades/raposos/mapa_socioeconomic.csv'"
     ]
    }
   ],
   "source": [
    "mapa_socioeconomic = pd.read_csv(\"../../../dades/raposos/mapa_socioeconomic.csv\")\n"
   ]
  }
 ],
 "metadata": {
  "kernelspec": {
   "display_name": "Python 3",
   "language": "python",
   "name": "python3"
  },
  "language_info": {
   "codemirror_mode": {
    "name": "ipython",
    "version": 3
   },
   "file_extension": ".py",
   "mimetype": "text/x-python",
   "name": "python",
   "nbconvert_exporter": "python",
   "pygments_lexer": "ipython3",
   "version": "3.12.0"
  }
 },
 "nbformat": 4,
 "nbformat_minor": 2
}
