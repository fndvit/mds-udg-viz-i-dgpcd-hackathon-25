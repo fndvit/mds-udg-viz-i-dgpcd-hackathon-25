{
 "cells": [
  {
   "cell_type": "code",
   "execution_count": 4,
   "metadata": {},
   "outputs": [
    {
     "name": "stdout",
     "output_type": "stream",
     "text": [
      "{'consulta_dnprcResult': {'control': {'cudnp': 1, 'cucons': 4, 'cucul': 8}, 'bico': {'bi': {'idbi': {'cn': 'RU', 'rc': {'pc1': '17177A0', 'pc2': '0100016', 'car': '0000', 'cc1': 'E', 'cc2': 'J'}}, 'dt': {'loine': {'cp': '17', 'cm': '167'}, 'cmc': '177', 'np': 'GIRONA', 'nm': 'SANT JOAN DE LES ABADESSES', 'locs': {'lors': {'lorus': {'czc': '0', 'cpp': {'cpo': '1', 'cpa': '16'}, 'npa': 'CAN PRIM', 'cpaj': '110'}}}}, 'ldt': 'Polígono 1 Parcela 16 CAN PRIM. 17860 SANT JOAN DE LES ABADESSES (GIRONA)', 'debi': {'luso': 'Agrario', 'sfc': '275', 'ant': '1975'}}, 'lcons': [{'lcd': 'INDUSTRIAL', 'dt': {'lourb': {'loint': {}}}, 'dfcons': {'stl': '97'}, 'dvcons': {'dtip': 'INDUSTRIA FABRIL'}}, {'lcd': 'VIVIENDA', 'dt': {'lourb': {'loint': {'es': '1', 'pt': '00', 'pu': '01'}}}, 'dfcons': {'stl': '30'}, 'dvcons': {'dtip': 'VIVIENDA UNIFAMILIAR'}}, {'lcd': 'ALMACEN', 'dt': {'lourb': {'loint': {'es': '1', 'pt': '00', 'pu': '02'}}}, 'dfcons': {'stl': '93'}, 'dvcons': {'dtip': 'ANEJOS DE VIVIENDA Y LOCALES EN ESTRUCTURA'}}, {'lcd': 'VIVIENDA', 'dt': {'lourb': {'loint': {'es': '1', 'pt': '01', 'pu': '01'}}}, 'dfcons': {'stl': '55'}, 'dvcons': {'dtip': 'VIVIENDA UNIFAMILIAR'}}], 'lspr': [{'cspr': 'a', 'dspr': {'ccc': 'MB', 'dcc': 'MONTE BAJO', 'ip': '01', 'ssp': '3697'}}, {'cspr': 'b', 'dspr': {'ccc': 'MB', 'dcc': 'MONTE BAJO', 'ip': '02', 'ssp': '6072'}}, {'cspr': 'c', 'dspr': {'ccc': 'PD', 'dcc': 'PRADOS O PRADERAS', 'ip': '03', 'ssp': '29523'}}, {'cspr': 'd', 'dspr': {'ccc': 'PD', 'dcc': 'PRADOS O PRADERAS', 'ip': '03', 'ssp': '25125'}}, {'cspr': 'e', 'dspr': {'ccc': 'I-', 'dcc': 'IMPRODUCTIVO', 'ip': '00', 'ssp': '1357'}}, {'cspr': 'f', 'dspr': {'ccc': 'MB', 'dcc': 'MONTE BAJO', 'ip': '02', 'ssp': '5147'}}, {'cspr': 'g', 'dspr': {'ccc': 'E-', 'dcc': 'PASTOS', 'ip': '00', 'ssp': '11718'}}, {'cspr': 'h', 'dspr': {'ccc': 'MB', 'dcc': 'MONTE BAJO', 'ip': '02', 'ssp': '1302'}}]}}}\n"
     ]
    }
   ],
   "source": [
    "import requests\n",
    "\n",
    "# Referencia catastral de ejemplo\n",
    "referencia_catastral = \"17177A001000160000EJ\"\n",
    "\n",
    "# URL de la API del Catastro para consulta por referencia catastral\n",
    "url = f\"https://ovc.catastro.meh.es/OVCServWeb/OVCWcfCallejero/COVCCallejero.svc/json/Consulta_DNPRC?RefCat={referencia_catastral}\"\n",
    "\n",
    "# Hacer la petición GET\n",
    "response = requests.get(url)\n",
    "\n",
    "# Verificar la respuesta\n",
    "if response.status_code == 200:\n",
    "    datos = response.json()\n",
    "    print(datos)  # Mostrar datos en formato JSON\n",
    "else:\n",
    "    print(f\"Error {response.status_code}: No se pudo obtener la información\")\n"
   ]
  },
  {
   "cell_type": "code",
   "execution_count": 5,
   "metadata": {},
   "outputs": [
    {
     "data": {
      "text/plain": [
       "{'consulta_dnprcResult': {'control': {'cudnp': 1, 'cucons': 4, 'cucul': 8},\n",
       "  'bico': {'bi': {'idbi': {'cn': 'RU',\n",
       "     'rc': {'pc1': '17177A0',\n",
       "      'pc2': '0100016',\n",
       "      'car': '0000',\n",
       "      'cc1': 'E',\n",
       "      'cc2': 'J'}},\n",
       "    'dt': {'loine': {'cp': '17', 'cm': '167'},\n",
       "     'cmc': '177',\n",
       "     'np': 'GIRONA',\n",
       "     'nm': 'SANT JOAN DE LES ABADESSES',\n",
       "     'locs': {'lors': {'lorus': {'czc': '0',\n",
       "        'cpp': {'cpo': '1', 'cpa': '16'},\n",
       "        'npa': 'CAN PRIM',\n",
       "        'cpaj': '110'}}}},\n",
       "    'ldt': 'Polígono 1 Parcela 16 CAN PRIM. 17860 SANT JOAN DE LES ABADESSES (GIRONA)',\n",
       "    'debi': {'luso': 'Agrario', 'sfc': '275', 'ant': '1975'}},\n",
       "   'lcons': [{'lcd': 'INDUSTRIAL',\n",
       "     'dt': {'lourb': {'loint': {}}},\n",
       "     'dfcons': {'stl': '97'},\n",
       "     'dvcons': {'dtip': 'INDUSTRIA FABRIL'}},\n",
       "    {'lcd': 'VIVIENDA',\n",
       "     'dt': {'lourb': {'loint': {'es': '1', 'pt': '00', 'pu': '01'}}},\n",
       "     'dfcons': {'stl': '30'},\n",
       "     'dvcons': {'dtip': 'VIVIENDA UNIFAMILIAR'}},\n",
       "    {'lcd': 'ALMACEN',\n",
       "     'dt': {'lourb': {'loint': {'es': '1', 'pt': '00', 'pu': '02'}}},\n",
       "     'dfcons': {'stl': '93'},\n",
       "     'dvcons': {'dtip': 'ANEJOS DE VIVIENDA Y LOCALES EN ESTRUCTURA'}},\n",
       "    {'lcd': 'VIVIENDA',\n",
       "     'dt': {'lourb': {'loint': {'es': '1', 'pt': '01', 'pu': '01'}}},\n",
       "     'dfcons': {'stl': '55'},\n",
       "     'dvcons': {'dtip': 'VIVIENDA UNIFAMILIAR'}}],\n",
       "   'lspr': [{'cspr': 'a',\n",
       "     'dspr': {'ccc': 'MB', 'dcc': 'MONTE BAJO', 'ip': '01', 'ssp': '3697'}},\n",
       "    {'cspr': 'b',\n",
       "     'dspr': {'ccc': 'MB', 'dcc': 'MONTE BAJO', 'ip': '02', 'ssp': '6072'}},\n",
       "    {'cspr': 'c',\n",
       "     'dspr': {'ccc': 'PD',\n",
       "      'dcc': 'PRADOS O PRADERAS',\n",
       "      'ip': '03',\n",
       "      'ssp': '29523'}},\n",
       "    {'cspr': 'd',\n",
       "     'dspr': {'ccc': 'PD',\n",
       "      'dcc': 'PRADOS O PRADERAS',\n",
       "      'ip': '03',\n",
       "      'ssp': '25125'}},\n",
       "    {'cspr': 'e',\n",
       "     'dspr': {'ccc': 'I-', 'dcc': 'IMPRODUCTIVO', 'ip': '00', 'ssp': '1357'}},\n",
       "    {'cspr': 'f',\n",
       "     'dspr': {'ccc': 'MB', 'dcc': 'MONTE BAJO', 'ip': '02', 'ssp': '5147'}},\n",
       "    {'cspr': 'g',\n",
       "     'dspr': {'ccc': 'E-', 'dcc': 'PASTOS', 'ip': '00', 'ssp': '11718'}},\n",
       "    {'cspr': 'h',\n",
       "     'dspr': {'ccc': 'MB', 'dcc': 'MONTE BAJO', 'ip': '02', 'ssp': '1302'}}]}}}"
      ]
     },
     "execution_count": 5,
     "metadata": {},
     "output_type": "execute_result"
    }
   ],
   "source": [
    "datos"
   ]
  },
  {
   "cell_type": "code",
   "execution_count": 23,
   "metadata": {},
   "outputs": [
    {
     "name": "stdout",
     "output_type": "stream",
     "text": [
      "Dirección: {'loine': {'cp': '17', 'cm': '167'}, 'cmc': '177', 'np': 'GIRONA', 'nm': 'SANT JOAN DE LES ABADESSES', 'locs': {'lors': {'lorus': {'czc': '0', 'cpp': {'cpo': '1', 'cpa': '16'}, 'npa': 'CAN PRIM', 'cpaj': '110'}}}}\n",
      "Año construcción: 1975\n",
      "Uso: Agrario\n",
      "{'idbi': {'cn': 'RU', 'rc': {'pc1': '17177A0', 'pc2': '0100016', 'car': '0000', 'cc1': 'E', 'cc2': 'J'}}, 'dt': {'loine': {'cp': '17', 'cm': '167'}, 'cmc': '177', 'np': 'GIRONA', 'nm': 'SANT JOAN DE LES ABADESSES', 'locs': {'lors': {'lorus': {'czc': '0', 'cpp': {'cpo': '1', 'cpa': '16'}, 'npa': 'CAN PRIM', 'cpaj': '110'}}}}, 'ldt': 'Polígono 1 Parcela 16 CAN PRIM. 17860 SANT JOAN DE LES ABADESSES (GIRONA)', 'debi': {'luso': 'Agrario', 'sfc': '275', 'ant': '1975'}}\n"
     ]
    }
   ],
   "source": [
    "datos = response.json()\n",
    "\n",
    "direccion = datos['consulta_dnprcResult']['bico']['bi']['dt']\n",
    "print(\"Dirección:\", direccion)\n",
    "\n",
    "año_construccion = datos['consulta_dnprcResult']['bico']['bi']['debi']['ant']\n",
    "print(f'Año construcción: {año_construccion}')\n",
    "\n",
    "\n",
    "uso = datos['consulta_dnprcResult']['bico']['bi']['debi']['luso']\n",
    "print(\"Uso:\", uso)\n",
    "\n",
    "construcciones = datos['consulta_dnprcResult']['bico']['bi']\n",
    "print(construcciones)"
   ]
  }
 ],
 "metadata": {
  "kernelspec": {
   "display_name": ".venv",
   "language": "python",
   "name": "python3"
  },
  "language_info": {
   "codemirror_mode": {
    "name": "ipython",
    "version": 3
   },
   "file_extension": ".py",
   "mimetype": "text/x-python",
   "name": "python",
   "nbconvert_exporter": "python",
   "pygments_lexer": "ipython3",
   "version": "3.12.3"
  }
 },
 "nbformat": 4,
 "nbformat_minor": 2
}
