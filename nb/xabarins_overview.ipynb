{
 "cells": [
  {
   "cell_type": "markdown",
   "id": "344f9798-8579-48ea-9abd-9ce4165164a6",
   "metadata": {},
   "source": [
    "# Xabarins Overview"
   ]
  },
  {
   "cell_type": "markdown",
   "id": "082889d2-784f-4908-85c4-04f822f5b82f",
   "metadata": {},
   "source": [
    "# Imports "
   ]
  },
  {
   "cell_type": "code",
   "execution_count": 18,
   "id": "cf493efa-a5c1-4e21-977e-a3cf31a394d2",
   "metadata": {},
   "outputs": [],
   "source": [
    "import pandas as pd \n",
    "import numpy as np\n",
    "from unicodedata import normalize\n"
   ]
  },
  {
   "cell_type": "markdown",
   "id": "e2343216-fd56-44f8-9dba-046682af75fa",
   "metadata": {},
   "source": [
    "# Code "
   ]
  },
  {
   "cell_type": "markdown",
   "id": "97c70fef-e224-40bd-b550-a15ba9708f36",
   "metadata": {},
   "source": [
    "## Import df "
   ]
  },
  {
   "cell_type": "code",
   "execution_count": 6,
   "id": "c2a7216a-6c0f-4bcd-a77e-3e3fa6c12def",
   "metadata": {},
   "outputs": [
    {
     "name": "stderr",
     "output_type": "stream",
     "text": [
      "C:\\Users\\joelx\\AppData\\Local\\Temp\\ipykernel_34784\\2455367483.py:1: DtypeWarning: Columns (2) have mixed types. Specify dtype option on import or set low_memory=False.\n",
      "  df_small = pd.read_csv(\"../src/dades/font/certificats.csv\")\n"
     ]
    }
   ],
   "source": [
    "df_small = pd.read_csv(\"../src/dades/font/certificats.csv\")"
   ]
  },
  {
   "cell_type": "code",
   "execution_count": 20,
   "id": "560829a5-5a74-4de8-9b3c-ff0c0f875c15",
   "metadata": {},
   "outputs": [
    {
     "name": "stderr",
     "output_type": "stream",
     "text": [
      "C:\\Users\\joelx\\AppData\\Local\\Temp\\ipykernel_34784\\1237903497.py:1: DtypeWarning: Columns (65) have mixed types. Specify dtype option on import or set low_memory=False.\n",
      "  df_big_raw = pd.read_csv(\"../data/Certificats_d_efici_ncia_energ_tica_d_edificis_20250204.csv\")\n"
     ]
    }
   ],
   "source": [
    "df_big_raw = pd.read_csv(\"../data/Certificats_d_efici_ncia_energ_tica_d_edificis_20250204.csv\")"
   ]
  },
  {
   "cell_type": "code",
   "execution_count": 8,
   "id": "a6137d61-0910-4af5-a046-97df25f6bdf6",
   "metadata": {},
   "outputs": [
    {
     "data": {
      "text/plain": [
       "(213291, 71)"
      ]
     },
     "execution_count": 8,
     "metadata": {},
     "output_type": "execute_result"
    }
   ],
   "source": [
    "df_small.shape"
   ]
  },
  {
   "cell_type": "code",
   "execution_count": 9,
   "id": "0acfaca9-a4ff-4c15-89d2-1822657f7887",
   "metadata": {},
   "outputs": [
    {
     "data": {
      "text/plain": [
       "(1336925, 69)"
      ]
     },
     "execution_count": 9,
     "metadata": {},
     "output_type": "execute_result"
    }
   ],
   "source": [
    "df_big.shape"
   ]
  },
  {
   "cell_type": "code",
   "execution_count": 11,
   "id": "fe982e0b-76f8-455b-b1f5-099672eea80e",
   "metadata": {},
   "outputs": [
    {
     "data": {
      "text/plain": [
       "Index(['num_cas', 'adre_a', 'numero', 'escala', 'pis', 'porta', 'codi_postal',\n",
       "       'poblacio', 'comarca', 'nom_provincia', 'codi_poblacio', 'codi_comarca',\n",
       "       'codi_provincia', 'referencia_cadastral', 'zona_climatica',\n",
       "       'metres_cadastre', 'any_construccio', 'us_edifici',\n",
       "       'qualificaci_de_consum_d', 'energia_prim_ria_no_renovable',\n",
       "       'qualificacio_d_emissions', 'emissions_de_co2',\n",
       "       'consum_d_energia_final', 'cost_anual_aproximat_d_energia',\n",
       "       'vehicle_electric', 'solar_termica', 'solar_fotovoltaica',\n",
       "       'sistema_biomassa', 'xarxa_districte', 'energia_geotermica',\n",
       "       'informe_ins_tecnica_edifici', 'eina_de_certificacio',\n",
       "       'valor_aillaments', 'valor_finestres', 'motiu_de_la_certificacio',\n",
       "       'valor_aillaments_cte', 'valor_finestres_cte', 'utm_x', 'utm_y',\n",
       "       'normativa_construcci', 'tipus_tramit', 'tipus_terciari',\n",
       "       'qualificaci_emissions', 'emissions_calefacci',\n",
       "       'qualificaci_emissions_1', 'emissions_refrigeraci',\n",
       "       'qualificaci_emissions_acs', 'emissions_acs', 'qualificaci_emissions_2',\n",
       "       'emissions_enllumenament', 'qualificaci_energia_calefacci',\n",
       "       'energia_calefacci', 'qualificaci_energia', 'energia_refrigeraci',\n",
       "       'qualificaci_energia_acs', 'energia_acs', 'qualificaci_energia_1',\n",
       "       'energia_enllumenament', 'qualificaci_energia_calefacci_1',\n",
       "       'energia_calefacci_demanda', 'qualificaci_energia_2',\n",
       "       'energia_refrigeraci_demanda', 'ventilacio_us_residencial', 'longitud',\n",
       "       'latitud', 'georeferencia', 'rehabilitacio_energetica',\n",
       "       'actuacions_rehabilitacio', 'data_entrada', 'hora_entrada',\n",
       "       'mundissec'],\n",
       "      dtype='object')"
      ]
     },
     "execution_count": 11,
     "metadata": {},
     "output_type": "execute_result"
    }
   ],
   "source": [
    "df_small.columns"
   ]
  },
  {
   "cell_type": "code",
   "execution_count": 10,
   "id": "ac10219f-6da4-4278-b78c-026b20df5ce9",
   "metadata": {},
   "outputs": [
    {
     "data": {
      "text/plain": [
       "Index(['NUM_CAS', 'ADREÇA', 'NUMERO', 'ESCALA', 'PIS', 'PORTA', 'CODI_POSTAL',\n",
       "       'POBLACIO', 'COMARCA', 'NOM_PROVINCIA', 'CODI_POBLACIO', 'CODI_COMARCA',\n",
       "       'CODI_PROVINCIA', 'REFERENCIA CADASTRAL', 'ZONA CLIMATICA',\n",
       "       'METRES_CADASTRE', 'ANY_CONSTRUCCIO', 'US_EDIFICI',\n",
       "       'Qualificació de consum d'energia primaria no renovable',\n",
       "       'Energia primària no renovable', 'Qualificacio d'emissions de CO2',\n",
       "       'Emissions de CO2', 'Consum d'energia final',\n",
       "       'Cost anual aproximat d'energia per habitatge', 'VEHICLE ELECTRIC',\n",
       "       'SOLAR TERMICA', 'SOLAR FOTOVOLTAICA', 'SISTEMA BIOMASSA',\n",
       "       'XARXA DISTRICTE', 'ENERGIA GEOTERMICA', 'INFORME_INS_TECNICA_EDIFICI',\n",
       "       'Eina de certificacio', 'VALOR AILLAMENTS', 'VALOR FINESTRES',\n",
       "       'Motiu de la certificacio', 'VALOR AILLAMENTS CTE',\n",
       "       'VALOR FINESTRES CTE', 'UTM_X', 'UTM_Y', 'Normativa construcció',\n",
       "       'Tipus Tramit', 'TIPUS_TERCIARI', 'Qualificació emissions calefacció',\n",
       "       'Emissions calefacció', 'Qualificació emissions refrigeració',\n",
       "       'Emissions refrigeració', 'Qualificació emissions ACS', 'Emissions ACS',\n",
       "       'Qualificació emissions enllumenament', 'Emissions enllumenament',\n",
       "       'Qualificació energia calefacció', 'Energia calefacció',\n",
       "       'Qualificació energia refrigeració', 'Energia refrigeració',\n",
       "       'Qualificació energia ACS', 'Energia ACS',\n",
       "       'Qualificació energia enllumenament', 'Energia enllumenament',\n",
       "       'Qualificació energia calefacció demanda', 'Energia calefacció demanda',\n",
       "       'Qualificació energia refrigeració demanda',\n",
       "       'Energia refrigeració demanda', 'VENTILACIO US RESIDENCIAL', 'LONGITUD',\n",
       "       'LATITUD', 'GEOREFERÈNCIA', 'REHABILITACIO_ENERGETICA',\n",
       "       'ACTUACIONS_REHABILITACIO', 'DATA_ENTRADA'],\n",
       "      dtype='object')"
      ]
     },
     "execution_count": 10,
     "metadata": {},
     "output_type": "execute_result"
    }
   ],
   "source": [
    "df_big.columns"
   ]
  },
  {
   "cell_type": "code",
   "execution_count": 26,
   "id": "7082abbe-ee31-47aa-8af0-9c5abb3bfcd8",
   "metadata": {},
   "outputs": [],
   "source": [
    "df_big = df_big_raw.copy()"
   ]
  },
  {
   "cell_type": "code",
   "execution_count": null,
   "id": "fc413c48-212a-4dc8-badb-5771c737c7bc",
   "metadata": {},
   "outputs": [],
   "source": []
  },
  {
   "cell_type": "code",
   "execution_count": 27,
   "id": "943c1181-a14d-4802-a2a0-e81a8f901d93",
   "metadata": {},
   "outputs": [],
   "source": [
    "for column in df_big_raw.columns:\n",
    "    df_big[column.lower().join(\"_\")] = df_big[column]\n"
   ]
  },
  {
   "cell_type": "code",
   "execution_count": 24,
   "id": "02e88459-8f46-4dcb-ace2-5829c81fb53b",
   "metadata": {},
   "outputs": [
    {
     "data": {
      "text/plain": [
       "Index(['NUM_CAS', 'ADREÇA', 'NUMERO', 'ESCALA', 'PIS', 'PORTA', 'CODI_POSTAL',\n",
       "       'POBLACIO', 'COMARCA', 'NOM_PROVINCIA', 'CODI_POBLACIO', 'CODI_COMARCA',\n",
       "       'CODI_PROVINCIA', 'REFERENCIA CADASTRAL', 'ZONA CLIMATICA',\n",
       "       'METRES_CADASTRE', 'ANY_CONSTRUCCIO', 'US_EDIFICI',\n",
       "       'Qualificació de consum d'energia primaria no renovable',\n",
       "       'Energia primària no renovable', 'Qualificacio d'emissions de CO2',\n",
       "       'Emissions de CO2', 'Consum d'energia final',\n",
       "       'Cost anual aproximat d'energia per habitatge', 'VEHICLE ELECTRIC',\n",
       "       'SOLAR TERMICA', 'SOLAR FOTOVOLTAICA', 'SISTEMA BIOMASSA',\n",
       "       'XARXA DISTRICTE', 'ENERGIA GEOTERMICA', 'INFORME_INS_TECNICA_EDIFICI',\n",
       "       'Eina de certificacio', 'VALOR AILLAMENTS', 'VALOR FINESTRES',\n",
       "       'Motiu de la certificacio', 'VALOR AILLAMENTS CTE',\n",
       "       'VALOR FINESTRES CTE', 'UTM_X', 'UTM_Y', 'Normativa construcció',\n",
       "       'Tipus Tramit', 'TIPUS_TERCIARI', 'Qualificació emissions calefacció',\n",
       "       'Emissions calefacció', 'Qualificació emissions refrigeració',\n",
       "       'Emissions refrigeració', 'Qualificació emissions ACS', 'Emissions ACS',\n",
       "       'Qualificació emissions enllumenament', 'Emissions enllumenament',\n",
       "       'Qualificació energia calefacció', 'Energia calefacció',\n",
       "       'Qualificació energia refrigeració', 'Energia refrigeració',\n",
       "       'Qualificació energia ACS', 'Energia ACS',\n",
       "       'Qualificació energia enllumenament', 'Energia enllumenament',\n",
       "       'Qualificació energia calefacció demanda', 'Energia calefacció demanda',\n",
       "       'Qualificació energia refrigeració demanda',\n",
       "       'Energia refrigeració demanda', 'VENTILACIO US RESIDENCIAL', 'LONGITUD',\n",
       "       'LATITUD', 'GEOREFERÈNCIA', 'REHABILITACIO_ENERGETICA',\n",
       "       'ACTUACIONS_REHABILITACIO', 'DATA_ENTRADA', '_'],\n",
       "      dtype='object')"
      ]
     },
     "execution_count": 24,
     "metadata": {},
     "output_type": "execute_result"
    }
   ],
   "source": [
    "df_big.columns"
   ]
  }
 ],
 "metadata": {
  "kernelspec": {
   "display_name": "Python 3 (ipykernel)",
   "language": "python",
   "name": "python3"
  },
  "language_info": {
   "codemirror_mode": {
    "name": "ipython",
    "version": 3
   },
   "file_extension": ".py",
   "mimetype": "text/x-python",
   "name": "python",
   "nbconvert_exporter": "python",
   "pygments_lexer": "ipython3",
   "version": "3.12.6"
  }
 },
 "nbformat": 4,
 "nbformat_minor": 5
}
