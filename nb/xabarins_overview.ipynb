{
 "cells": [
  {
   "cell_type": "markdown",
   "id": "344f9798-8579-48ea-9abd-9ce4165164a6",
   "metadata": {},
   "source": [
    "# Xabarins Overview"
   ]
  },
  {
   "cell_type": "markdown",
   "id": "082889d2-784f-4908-85c4-04f822f5b82f",
   "metadata": {},
   "source": [
    "# Imports "
   ]
  },
  {
   "cell_type": "code",
   "execution_count": 99,
   "id": "cf493efa-a5c1-4e21-977e-a3cf31a394d2",
   "metadata": {},
   "outputs": [],
   "source": [
    "import pandas as pd \n",
    "import numpy as np\n",
    "from unicodedata import normalize\n",
    "import re\n",
    "import matplotlib.pyplot as plt"
   ]
  },
  {
   "cell_type": "markdown",
   "id": "e2343216-fd56-44f8-9dba-046682af75fa",
   "metadata": {},
   "source": [
    "# Code "
   ]
  },
  {
   "cell_type": "markdown",
   "id": "97c70fef-e224-40bd-b550-a15ba9708f36",
   "metadata": {},
   "source": [
    "## Import df "
   ]
  },
  {
   "cell_type": "code",
   "execution_count": 6,
   "id": "c2a7216a-6c0f-4bcd-a77e-3e3fa6c12def",
   "metadata": {},
   "outputs": [
    {
     "name": "stderr",
     "output_type": "stream",
     "text": [
      "C:\\Users\\joelx\\AppData\\Local\\Temp\\ipykernel_34784\\2455367483.py:1: DtypeWarning: Columns (2) have mixed types. Specify dtype option on import or set low_memory=False.\n",
      "  df_small = pd.read_csv(\"../src/dades/font/certificats.csv\")\n"
     ]
    }
   ],
   "source": [
    "df_small = pd.read_csv(\"../src/dades/font/certificats.csv\")"
   ]
  },
  {
   "cell_type": "code",
   "execution_count": 20,
   "id": "560829a5-5a74-4de8-9b3c-ff0c0f875c15",
   "metadata": {},
   "outputs": [
    {
     "name": "stderr",
     "output_type": "stream",
     "text": [
      "C:\\Users\\joelx\\AppData\\Local\\Temp\\ipykernel_34784\\1237903497.py:1: DtypeWarning: Columns (65) have mixed types. Specify dtype option on import or set low_memory=False.\n",
      "  df_big_raw = pd.read_csv(\"../data/Certificats_d_efici_ncia_energ_tica_d_edificis_20250204.csv\")\n"
     ]
    }
   ],
   "source": [
    "df_big_raw = pd.read_csv(\"../data/Certificats_d_efici_ncia_energ_tica_d_edificis_20250204.csv\")"
   ]
  },
  {
   "cell_type": "code",
   "execution_count": 8,
   "id": "a6137d61-0910-4af5-a046-97df25f6bdf6",
   "metadata": {},
   "outputs": [
    {
     "data": {
      "text/plain": [
       "(213291, 71)"
      ]
     },
     "execution_count": 8,
     "metadata": {},
     "output_type": "execute_result"
    }
   ],
   "source": [
    "df_small.shape"
   ]
  },
  {
   "cell_type": "code",
   "execution_count": 9,
   "id": "0acfaca9-a4ff-4c15-89d2-1822657f7887",
   "metadata": {},
   "outputs": [
    {
     "data": {
      "text/plain": [
       "(1336925, 69)"
      ]
     },
     "execution_count": 9,
     "metadata": {},
     "output_type": "execute_result"
    }
   ],
   "source": [
    "df_big.shape"
   ]
  },
  {
   "cell_type": "code",
   "execution_count": 11,
   "id": "fe982e0b-76f8-455b-b1f5-099672eea80e",
   "metadata": {},
   "outputs": [
    {
     "data": {
      "text/plain": [
       "Index(['num_cas', 'adre_a', 'numero', 'escala', 'pis', 'porta', 'codi_postal',\n",
       "       'poblacio', 'comarca', 'nom_provincia', 'codi_poblacio', 'codi_comarca',\n",
       "       'codi_provincia', 'referencia_cadastral', 'zona_climatica',\n",
       "       'metres_cadastre', 'any_construccio', 'us_edifici',\n",
       "       'qualificaci_de_consum_d', 'energia_prim_ria_no_renovable',\n",
       "       'qualificacio_d_emissions', 'emissions_de_co2',\n",
       "       'consum_d_energia_final', 'cost_anual_aproximat_d_energia',\n",
       "       'vehicle_electric', 'solar_termica', 'solar_fotovoltaica',\n",
       "       'sistema_biomassa', 'xarxa_districte', 'energia_geotermica',\n",
       "       'informe_ins_tecnica_edifici', 'eina_de_certificacio',\n",
       "       'valor_aillaments', 'valor_finestres', 'motiu_de_la_certificacio',\n",
       "       'valor_aillaments_cte', 'valor_finestres_cte', 'utm_x', 'utm_y',\n",
       "       'normativa_construcci', 'tipus_tramit', 'tipus_terciari',\n",
       "       'qualificaci_emissions', 'emissions_calefacci',\n",
       "       'qualificaci_emissions_1', 'emissions_refrigeraci',\n",
       "       'qualificaci_emissions_acs', 'emissions_acs', 'qualificaci_emissions_2',\n",
       "       'emissions_enllumenament', 'qualificaci_energia_calefacci',\n",
       "       'energia_calefacci', 'qualificaci_energia', 'energia_refrigeraci',\n",
       "       'qualificaci_energia_acs', 'energia_acs', 'qualificaci_energia_1',\n",
       "       'energia_enllumenament', 'qualificaci_energia_calefacci_1',\n",
       "       'energia_calefacci_demanda', 'qualificaci_energia_2',\n",
       "       'energia_refrigeraci_demanda', 'ventilacio_us_residencial', 'longitud',\n",
       "       'latitud', 'georeferencia', 'rehabilitacio_energetica',\n",
       "       'actuacions_rehabilitacio', 'data_entrada', 'hora_entrada',\n",
       "       'mundissec'],\n",
       "      dtype='object')"
      ]
     },
     "execution_count": 11,
     "metadata": {},
     "output_type": "execute_result"
    }
   ],
   "source": [
    "df_small.columns"
   ]
  },
  {
   "cell_type": "code",
   "execution_count": 10,
   "id": "ac10219f-6da4-4278-b78c-026b20df5ce9",
   "metadata": {},
   "outputs": [
    {
     "data": {
      "text/plain": [
       "Index(['NUM_CAS', 'ADREÇA', 'NUMERO', 'ESCALA', 'PIS', 'PORTA', 'CODI_POSTAL',\n",
       "       'POBLACIO', 'COMARCA', 'NOM_PROVINCIA', 'CODI_POBLACIO', 'CODI_COMARCA',\n",
       "       'CODI_PROVINCIA', 'REFERENCIA CADASTRAL', 'ZONA CLIMATICA',\n",
       "       'METRES_CADASTRE', 'ANY_CONSTRUCCIO', 'US_EDIFICI',\n",
       "       'Qualificació de consum d'energia primaria no renovable',\n",
       "       'Energia primària no renovable', 'Qualificacio d'emissions de CO2',\n",
       "       'Emissions de CO2', 'Consum d'energia final',\n",
       "       'Cost anual aproximat d'energia per habitatge', 'VEHICLE ELECTRIC',\n",
       "       'SOLAR TERMICA', 'SOLAR FOTOVOLTAICA', 'SISTEMA BIOMASSA',\n",
       "       'XARXA DISTRICTE', 'ENERGIA GEOTERMICA', 'INFORME_INS_TECNICA_EDIFICI',\n",
       "       'Eina de certificacio', 'VALOR AILLAMENTS', 'VALOR FINESTRES',\n",
       "       'Motiu de la certificacio', 'VALOR AILLAMENTS CTE',\n",
       "       'VALOR FINESTRES CTE', 'UTM_X', 'UTM_Y', 'Normativa construcció',\n",
       "       'Tipus Tramit', 'TIPUS_TERCIARI', 'Qualificació emissions calefacció',\n",
       "       'Emissions calefacció', 'Qualificació emissions refrigeració',\n",
       "       'Emissions refrigeració', 'Qualificació emissions ACS', 'Emissions ACS',\n",
       "       'Qualificació emissions enllumenament', 'Emissions enllumenament',\n",
       "       'Qualificació energia calefacció', 'Energia calefacció',\n",
       "       'Qualificació energia refrigeració', 'Energia refrigeració',\n",
       "       'Qualificació energia ACS', 'Energia ACS',\n",
       "       'Qualificació energia enllumenament', 'Energia enllumenament',\n",
       "       'Qualificació energia calefacció demanda', 'Energia calefacció demanda',\n",
       "       'Qualificació energia refrigeració demanda',\n",
       "       'Energia refrigeració demanda', 'VENTILACIO US RESIDENCIAL', 'LONGITUD',\n",
       "       'LATITUD', 'GEOREFERÈNCIA', 'REHABILITACIO_ENERGETICA',\n",
       "       'ACTUACIONS_REHABILITACIO', 'DATA_ENTRADA'],\n",
       "      dtype='object')"
      ]
     },
     "execution_count": 10,
     "metadata": {},
     "output_type": "execute_result"
    }
   ],
   "source": [
    "df_big.columns"
   ]
  },
  {
   "cell_type": "code",
   "execution_count": 52,
   "id": "7082abbe-ee31-47aa-8af0-9c5abb3bfcd8",
   "metadata": {},
   "outputs": [],
   "source": [
    "df_big = df_big_raw.copy()"
   ]
  },
  {
   "cell_type": "code",
   "execution_count": 61,
   "id": "943c1181-a14d-4802-a2a0-e81a8f901d93",
   "metadata": {},
   "outputs": [],
   "source": [
    "column_renames = {}\n",
    "for column in df_big.columns:\n",
    "    c_cleaned = column.lower().replace(\" \", \"_\").replace(\"'\",\"\")\n",
    "    c_cleaned = re.sub(\n",
    "        r\"([^n\\u0300-\\u036f]|n(?!\\u0303(?![\\u0300-\\u036f])))[\\u0300-\\u036f]+\", r\"\\1\", \n",
    "        normalize( \"NFD\", c_cleaned), 0, re.I\n",
    "    )\n",
    "    c_cleaned = normalize( 'NFC', c_cleaned)\n",
    "    column_renames[column] = c_cleaned"
   ]
  },
  {
   "cell_type": "code",
   "execution_count": 65,
   "id": "a748420d-842a-4ffc-a93b-f338865d1357",
   "metadata": {},
   "outputs": [],
   "source": [
    "df_big = df_big.rename(columns=column_renames)"
   ]
  },
  {
   "cell_type": "markdown",
   "id": "e384ca88-29a5-4e02-bb3e-17fe16d1f916",
   "metadata": {},
   "source": [
    "## Overview"
   ]
  },
  {
   "cell_type": "code",
   "execution_count": 66,
   "id": "8a0eb564-b814-45c4-8817-40bf36f5ad50",
   "metadata": {},
   "outputs": [
    {
     "name": "stdout",
     "output_type": "stream",
     "text": [
      "<class 'pandas.core.frame.DataFrame'>\n",
      "RangeIndex: 1336925 entries, 0 to 1336924\n",
      "Data columns (total 69 columns):\n",
      " #   Column                                                 Non-Null Count    Dtype  \n",
      "---  ------                                                 --------------    -----  \n",
      " 0   num_cas                                                1336925 non-null  object \n",
      " 1   adreca                                                 1336925 non-null  object \n",
      " 2   numero                                                 1336866 non-null  object \n",
      " 3   escala                                                 275216 non-null   object \n",
      " 4   pis                                                    1002988 non-null  object \n",
      " 5   porta                                                  951983 non-null   object \n",
      " 6   codi_postal                                            1336922 non-null  float64\n",
      " 7   poblacio                                               1336925 non-null  object \n",
      " 8   comarca                                                1336925 non-null  object \n",
      " 9   nom_provincia                                          1336925 non-null  object \n",
      " 10  codi_poblacio                                          1336925 non-null  int64  \n",
      " 11  codi_comarca                                           1336908 non-null  float64\n",
      " 12  codi_provincia                                         1336925 non-null  int64  \n",
      " 13  referencia_cadastral                                   1335859 non-null  object \n",
      " 14  zona_climatica                                         1308447 non-null  object \n",
      " 15  metres_cadastre                                        1336925 non-null  float64\n",
      " 16  any_construccio                                        323 non-null      float64\n",
      " 17  us_edifici                                             1336925 non-null  object \n",
      " 18  qualificacio_de_consum_denergia_primaria_no_renovable  1336925 non-null  object \n",
      " 19  energia_primaria_no_renovable                          1336795 non-null  float64\n",
      " 20  qualificacio_demissions_de_co2                         1336925 non-null  object \n",
      " 21  emissions_de_co2                                       1336800 non-null  float64\n",
      " 22  consum_denergia_final                                  1308439 non-null  float64\n",
      " 23  cost_anual_aproximat_denergia_per_habitatge            1308439 non-null  float64\n",
      " 24  vehicle_electric                                       976758 non-null   object \n",
      " 25  solar_termica                                          1336925 non-null  object \n",
      " 26  solar_fotovoltaica                                     1336925 non-null  object \n",
      " 27  sistema_biomassa                                       1323686 non-null  object \n",
      " 28  xarxa_districte                                        976758 non-null   object \n",
      " 29  energia_geotermica                                     1336873 non-null  object \n",
      " 30  informe_ins_tecnica_edifici                            5060 non-null     object \n",
      " 31  eina_de_certificacio                                   1336871 non-null  object \n",
      " 32  valor_aillaments                                       1308439 non-null  float64\n",
      " 33  valor_finestres                                        1308439 non-null  float64\n",
      " 34  motiu_de_la_certificacio                               1336925 non-null  object \n",
      " 35  valor_aillaments_cte                                   1336925 non-null  float64\n",
      " 36  valor_finestres_cte                                    1336925 non-null  float64\n",
      " 37  utm_x                                                  1317867 non-null  float64\n",
      " 38  utm_y                                                  1317867 non-null  float64\n",
      " 39  normativa_construccio                                  1336873 non-null  object \n",
      " 40  tipus_tramit                                           1336925 non-null  object \n",
      " 41  tipus_terciari                                         122599 non-null   object \n",
      " 42  qualificacio_emissions_calefaccio                      1258683 non-null  object \n",
      " 43  emissions_calefaccio                                   1262803 non-null  float64\n",
      " 44  qualificacio_emissions_refrigeracio                    1213677 non-null  object \n",
      " 45  emissions_refrigeracio                                 1262802 non-null  float64\n",
      " 46  qualificacio_emissions_acs                             1231860 non-null  object \n",
      " 47  emissions_acs                                          1262803 non-null  float64\n",
      " 48  qualificacio_emissions_enllumenament                   95298 non-null    object \n",
      " 49  emissions_enllumenament                                1228008 non-null  float64\n",
      " 50  qualificacio_energia_calefaccio                        1258731 non-null  object \n",
      " 51  energia_calefaccio                                     1262802 non-null  float64\n",
      " 52  qualificacio_energia_refrigeracio                      1213702 non-null  object \n",
      " 53  energia_refrigeracio                                   1262683 non-null  float64\n",
      " 54  qualificacio_energia_acs                               1233052 non-null  object \n",
      " 55  energia_acs                                            1262802 non-null  float64\n",
      " 56  qualificacio_energia_enllumenament                     95248 non-null    object \n",
      " 57  energia_enllumenament                                  1244495 non-null  float64\n",
      " 58  qualificacio_energia_calefaccio_demanda                1259517 non-null  object \n",
      " 59  energia_calefaccio_demanda                             1262806 non-null  float64\n",
      " 60  qualificacio_energia_refrigeracio_demanda              1213934 non-null  object \n",
      " 61  energia_refrigeracio_demanda                           1262503 non-null  float64\n",
      " 62  ventilacio_us_residencial                              424294 non-null   float64\n",
      " 63  longitud                                               1317867 non-null  float64\n",
      " 64  latitud                                                1317867 non-null  float64\n",
      " 65  georeferencia                                          1317867 non-null  object \n",
      " 66  rehabilitacio_energetica                               959377 non-null   object \n",
      " 67  actuacions_rehabilitacio                               17112 non-null    object \n",
      " 68  data_entrada                                           1336925 non-null  object \n",
      "dtypes: float64(27), int64(2), object(40)\n",
      "memory usage: 703.8+ MB\n"
     ]
    }
   ],
   "source": [
    "df_big.info()"
   ]
  },
  {
   "cell_type": "code",
   "execution_count": 136,
   "id": "2a97a14d-70ae-459c-99fa-b377df5248d5",
   "metadata": {},
   "outputs": [],
   "source": [
    "columns_selected = [\n",
    "    \"num_cas\",\n",
    "    \"zona_climatica\",\n",
    "    \"metres_cadastre\",\n",
    "    \"qualificacio_de_consum_denergia_primaria_no_renovable\",\n",
    "    \"energia_primaria_no_renovable\",\n",
    "    \"qualificacio_demissions_de_co2\",\n",
    "    \"emissions_de_co2\",\n",
    "    \"consum_denergia_final\"\n",
    "]"
   ]
  },
  {
   "cell_type": "code",
   "execution_count": 137,
   "id": "edb33ba1-2fd5-429c-b477-a38fe4583f94",
   "metadata": {},
   "outputs": [],
   "source": [
    "df_question_1 = df_big[columns_selected]"
   ]
  },
  {
   "cell_type": "code",
   "execution_count": 138,
   "id": "bddab4de-5327-426d-a4ec-b0f0def63fd2",
   "metadata": {},
   "outputs": [
    {
     "data": {
      "text/plain": [
       "qualificacio_demissions_de_co2\n",
       "E    0.559492\n",
       "D    0.126436\n",
       "F    0.115933\n",
       "G    0.102455\n",
       "C    0.056510\n",
       "B    0.020534\n",
       "A    0.018641\n",
       "Name: count, dtype: float64"
      ]
     },
     "execution_count": 138,
     "metadata": {},
     "output_type": "execute_result"
    }
   ],
   "source": [
    "df_big[\"qualificacio_demissions_de_co2\"].value_counts()/len(df_big)"
   ]
  },
  {
   "cell_type": "code",
   "execution_count": 92,
   "id": "59f156b2-acc5-4a96-8adb-094c89f7d688",
   "metadata": {},
   "outputs": [
    {
     "data": {
      "text/plain": [
       "emissions_de_co2\n",
       "37.50      4.944182e-04\n",
       "36.40      4.831984e-04\n",
       "35.00      4.802064e-04\n",
       "34.60      4.787105e-04\n",
       "34.50      4.712306e-04\n",
       "               ...     \n",
       "176.73     7.479851e-07\n",
       "154.49     7.479851e-07\n",
       "139.31     7.479851e-07\n",
       "3525.30    7.479851e-07\n",
       "202.29     7.479851e-07\n",
       "Name: count, Length: 17910, dtype: float64"
      ]
     },
     "execution_count": 92,
     "metadata": {},
     "output_type": "execute_result"
    }
   ],
   "source": [
    "df_big[\"emissions_de_co2\"].value_counts()/len(df_big)"
   ]
  },
  {
   "cell_type": "code",
   "execution_count": 95,
   "id": "7f6bddb8-9fa0-4d47-b1f1-a71028f9871a",
   "metadata": {},
   "outputs": [
    {
     "data": {
      "text/plain": [
       "'31/12/2024'"
      ]
     },
     "execution_count": 95,
     "metadata": {},
     "output_type": "execute_result"
    }
   ],
   "source": [
    "max(df_big[\"data_entrada\"])"
   ]
  },
  {
   "cell_type": "markdown",
   "id": "ad0cdb89-b30c-42d0-86d0-b09d600a31d5",
   "metadata": {},
   "source": [
    "## Plots"
   ]
  },
  {
   "cell_type": "code",
   "execution_count": 105,
   "id": "d8d2fb69-2e15-426a-8e75-a74e8af12b87",
   "metadata": {},
   "outputs": [
    {
     "data": {
      "text/plain": [
       "(0.0, 2000.0)"
      ]
     },
     "execution_count": 105,
     "metadata": {},
     "output_type": "execute_result"
    },
    {
     "data": {
      "image/png": "[encoded data removed]",
      "text/plain": [
       "<Figure size 640x480 with 1 Axes>"
      ]
     },
     "metadata": {},
     "output_type": "display_data"
    }
   ],
   "source": [
    "plt.scatter(df_question_1[\"consum_denergia_final\"],df_question_1[\"emissions_de_co2\"])\n",
    "plt.xlim(0,10000)\n",
    "plt.ylim(0,2000)"
   ]
  },
  {
   "cell_type": "code",
   "execution_count": 101,
   "id": "34d4d3e3-f8f6-438a-b829-7e74e5d0db7c",
   "metadata": {},
   "outputs": [
    {
     "data": {
      "text/html": [
       "<div>\n",
       "<style scoped>\n",
       "    .dataframe tbody tr th:only-of-type {\n",
       "        vertical-align: middle;\n",
       "    }\n",
       "\n",
       "    .dataframe tbody tr th {\n",
       "        vertical-align: top;\n",
       "    }\n",
       "\n",
       "    .dataframe thead th {\n",
       "        text-align: right;\n",
       "    }\n",
       "</style>\n",
       "<table border=\"1\" class=\"dataframe\">\n",
       "  <thead>\n",
       "    <tr style=\"text-align: right;\">\n",
       "      <th></th>\n",
       "      <th>num_cas</th>\n",
       "      <th>zona_climatica</th>\n",
       "      <th>metres_cadastre</th>\n",
       "      <th>qualificacio_de_consum_denergia_primaria_no_renovable</th>\n",
       "      <th>energia_primaria_no_renovable</th>\n",
       "      <th>qualificacio_demissions_de_co2</th>\n",
       "      <th>emissions_de_co2</th>\n",
       "      <th>consum_denergia_final</th>\n",
       "    </tr>\n",
       "  </thead>\n",
       "  <tbody>\n",
       "    <tr>\n",
       "      <th>0</th>\n",
       "      <td>ZJ04JN98B</td>\n",
       "      <td>E1</td>\n",
       "      <td>115.00</td>\n",
       "      <td>F</td>\n",
       "      <td>294.95</td>\n",
       "      <td>E</td>\n",
       "      <td>61.99</td>\n",
       "      <td>138.17</td>\n",
       "    </tr>\n",
       "    <tr>\n",
       "      <th>1</th>\n",
       "      <td>167H6HZJ3</td>\n",
       "      <td>C2</td>\n",
       "      <td>1696.39</td>\n",
       "      <td>A</td>\n",
       "      <td>311.80</td>\n",
       "      <td>A</td>\n",
       "      <td>52.50</td>\n",
       "      <td>0.00</td>\n",
       "    </tr>\n",
       "    <tr>\n",
       "      <th>2</th>\n",
       "      <td>3R8NLZQCC</td>\n",
       "      <td>C2</td>\n",
       "      <td>199.00</td>\n",
       "      <td>B</td>\n",
       "      <td>47.48</td>\n",
       "      <td>B</td>\n",
       "      <td>9.47</td>\n",
       "      <td>13.44</td>\n",
       "    </tr>\n",
       "    <tr>\n",
       "      <th>3</th>\n",
       "      <td>Q87DJVFN</td>\n",
       "      <td>C3</td>\n",
       "      <td>104.00</td>\n",
       "      <td>A</td>\n",
       "      <td>28.12</td>\n",
       "      <td>A</td>\n",
       "      <td>4.76</td>\n",
       "      <td>14.39</td>\n",
       "    </tr>\n",
       "    <tr>\n",
       "      <th>4</th>\n",
       "      <td>H5YDH45MC</td>\n",
       "      <td>D2</td>\n",
       "      <td>254.60</td>\n",
       "      <td>E</td>\n",
       "      <td>186.80</td>\n",
       "      <td>E</td>\n",
       "      <td>48.52</td>\n",
       "      <td>155.76</td>\n",
       "    </tr>\n",
       "  </tbody>\n",
       "</table>\n",
       "</div>"
      ],
      "text/plain": [
       "     num_cas zona_climatica  metres_cadastre  \\\n",
       "0  ZJ04JN98B             E1           115.00   \n",
       "1  167H6HZJ3             C2          1696.39   \n",
       "2  3R8NLZQCC             C2           199.00   \n",
       "3   Q87DJVFN             C3           104.00   \n",
       "4  H5YDH45MC             D2           254.60   \n",
       "\n",
       "  qualificacio_de_consum_denergia_primaria_no_renovable  \\\n",
       "0                                                  F      \n",
       "1                                                  A      \n",
       "2                                                  B      \n",
       "3                                                  A      \n",
       "4                                                  E      \n",
       "\n",
       "   energia_primaria_no_renovable qualificacio_demissions_de_co2  \\\n",
       "0                         294.95                              E   \n",
       "1                         311.80                              A   \n",
       "2                          47.48                              B   \n",
       "3                          28.12                              A   \n",
       "4                         186.80                              E   \n",
       "\n",
       "   emissions_de_co2  consum_denergia_final  \n",
       "0             61.99                 138.17  \n",
       "1             52.50                   0.00  \n",
       "2              9.47                  13.44  \n",
       "3              4.76                  14.39  \n",
       "4             48.52                 155.76  "
      ]
     },
     "execution_count": 101,
     "metadata": {},
     "output_type": "execute_result"
    }
   ],
   "source": [
    "df_question_1.head()"
   ]
  },
  {
   "cell_type": "code",
   "execution_count": 102,
   "id": "c73d9b70-d524-49af-9876-d91b2a929399",
   "metadata": {},
   "outputs": [
    {
     "name": "stdout",
     "output_type": "stream",
     "text": [
      "<class 'pandas.core.frame.DataFrame'>\n",
      "RangeIndex: 1336925 entries, 0 to 1336924\n",
      "Data columns (total 69 columns):\n",
      " #   Column                                                 Non-Null Count    Dtype  \n",
      "---  ------                                                 --------------    -----  \n",
      " 0   num_cas                                                1336925 non-null  object \n",
      " 1   adreca                                                 1336925 non-null  object \n",
      " 2   numero                                                 1336866 non-null  object \n",
      " 3   escala                                                 275216 non-null   object \n",
      " 4   pis                                                    1002988 non-null  object \n",
      " 5   porta                                                  951983 non-null   object \n",
      " 6   codi_postal                                            1336922 non-null  float64\n",
      " 7   poblacio                                               1336925 non-null  object \n",
      " 8   comarca                                                1336925 non-null  object \n",
      " 9   nom_provincia                                          1336925 non-null  object \n",
      " 10  codi_poblacio                                          1336925 non-null  int64  \n",
      " 11  codi_comarca                                           1336908 non-null  float64\n",
      " 12  codi_provincia                                         1336925 non-null  int64  \n",
      " 13  referencia_cadastral                                   1335859 non-null  object \n",
      " 14  zona_climatica                                         1308447 non-null  object \n",
      " 15  metres_cadastre                                        1336925 non-null  float64\n",
      " 16  any_construccio                                        323 non-null      float64\n",
      " 17  us_edifici                                             1336925 non-null  object \n",
      " 18  qualificacio_de_consum_denergia_primaria_no_renovable  1336925 non-null  object \n",
      " 19  energia_primaria_no_renovable                          1336795 non-null  float64\n",
      " 20  qualificacio_demissions_de_co2                         1336925 non-null  object \n",
      " 21  emissions_de_co2                                       1336800 non-null  float64\n",
      " 22  consum_denergia_final                                  1308439 non-null  float64\n",
      " 23  cost_anual_aproximat_denergia_per_habitatge            1308439 non-null  float64\n",
      " 24  vehicle_electric                                       976758 non-null   object \n",
      " 25  solar_termica                                          1336925 non-null  object \n",
      " 26  solar_fotovoltaica                                     1336925 non-null  object \n",
      " 27  sistema_biomassa                                       1323686 non-null  object \n",
      " 28  xarxa_districte                                        976758 non-null   object \n",
      " 29  energia_geotermica                                     1336873 non-null  object \n",
      " 30  informe_ins_tecnica_edifici                            5060 non-null     object \n",
      " 31  eina_de_certificacio                                   1336871 non-null  object \n",
      " 32  valor_aillaments                                       1308439 non-null  float64\n",
      " 33  valor_finestres                                        1308439 non-null  float64\n",
      " 34  motiu_de_la_certificacio                               1336925 non-null  object \n",
      " 35  valor_aillaments_cte                                   1336925 non-null  float64\n",
      " 36  valor_finestres_cte                                    1336925 non-null  float64\n",
      " 37  utm_x                                                  1317867 non-null  float64\n",
      " 38  utm_y                                                  1317867 non-null  float64\n",
      " 39  normativa_construccio                                  1336873 non-null  object \n",
      " 40  tipus_tramit                                           1336925 non-null  object \n",
      " 41  tipus_terciari                                         122599 non-null   object \n",
      " 42  qualificacio_emissions_calefaccio                      1258683 non-null  object \n",
      " 43  emissions_calefaccio                                   1262803 non-null  float64\n",
      " 44  qualificacio_emissions_refrigeracio                    1213677 non-null  object \n",
      " 45  emissions_refrigeracio                                 1262802 non-null  float64\n",
      " 46  qualificacio_emissions_acs                             1231860 non-null  object \n",
      " 47  emissions_acs                                          1262803 non-null  float64\n",
      " 48  qualificacio_emissions_enllumenament                   95298 non-null    object \n",
      " 49  emissions_enllumenament                                1228008 non-null  float64\n",
      " 50  qualificacio_energia_calefaccio                        1258731 non-null  object \n",
      " 51  energia_calefaccio                                     1262802 non-null  float64\n",
      " 52  qualificacio_energia_refrigeracio                      1213702 non-null  object \n",
      " 53  energia_refrigeracio                                   1262683 non-null  float64\n",
      " 54  qualificacio_energia_acs                               1233052 non-null  object \n",
      " 55  energia_acs                                            1262802 non-null  float64\n",
      " 56  qualificacio_energia_enllumenament                     95248 non-null    object \n",
      " 57  energia_enllumenament                                  1244495 non-null  float64\n",
      " 58  qualificacio_energia_calefaccio_demanda                1259517 non-null  object \n",
      " 59  energia_calefaccio_demanda                             1262806 non-null  float64\n",
      " 60  qualificacio_energia_refrigeracio_demanda              1213934 non-null  object \n",
      " 61  energia_refrigeracio_demanda                           1262503 non-null  float64\n",
      " 62  ventilacio_us_residencial                              424294 non-null   float64\n",
      " 63  longitud                                               1317867 non-null  float64\n",
      " 64  latitud                                                1317867 non-null  float64\n",
      " 65  georeferencia                                          1317867 non-null  object \n",
      " 66  rehabilitacio_energetica                               959377 non-null   object \n",
      " 67  actuacions_rehabilitacio                               17112 non-null    object \n",
      " 68  data_entrada                                           1336925 non-null  object \n",
      "dtypes: float64(27), int64(2), object(40)\n",
      "memory usage: 703.8+ MB\n"
     ]
    }
   ],
   "source": [
    "df_big.info()"
   ]
  },
  {
   "cell_type": "code",
   "execution_count": 103,
   "id": "c7e3051a-f880-4639-843a-ec0a64867ad1",
   "metadata": {},
   "outputs": [
    {
     "data": {
      "text/plain": [
       "0          17177A001000160000EJ\n",
       "1                           NaN\n",
       "2                3152671DG8435S\n",
       "3          3803642CF3630B0001OL\n",
       "4          002206800CF88E0001WR\n",
       "                   ...         \n",
       "1336920    2294619DF5929S0020ZR\n",
       "1336921    2391102DF5929S0107OM\n",
       "1336922    0037004DF2903N0009QY\n",
       "1336923    8630307DG5083S0001UZ\n",
       "1336924    5294216DF2959H0010PE\n",
       "Name: referencia_cadastral, Length: 1336925, dtype: object"
      ]
     },
     "execution_count": 103,
     "metadata": {},
     "output_type": "execute_result"
    }
   ],
   "source": [
    "df_big[\"referencia_cadastral\"]"
   ]
  },
  {
   "cell_type": "markdown",
   "id": "32b509e7-88e5-4bc6-93bd-781fb62fb59a",
   "metadata": {},
   "source": [
    "## Feature engineering"
   ]
  },
  {
   "cell_type": "code",
   "execution_count": 152,
   "id": "535d0d9b-10a2-4390-8274-0c91d2587091",
   "metadata": {},
   "outputs": [],
   "source": [
    "df_big[\"ratio_eficiencia\"] = np.maximum(0,(df_big[\"consum_denergia_final\"]/df_big[\"emissions_de_co2\"]))"
   ]
  },
  {
   "cell_type": "code",
   "execution_count": 153,
   "id": "6aff85da-0ee9-4d91-b273-fb5b834fe959",
   "metadata": {},
   "outputs": [],
   "source": [
    "df_big[\"ratio_eficiencia\"] = df_big[\"ratio_eficiencia\"].replace([np.inf, -np.inf], np.nan)"
   ]
  },
  {
   "cell_type": "code",
   "execution_count": 140,
   "id": "5eedf625-e908-45f1-82e6-b403ef1afbb1",
   "metadata": {},
   "outputs": [],
   "source": [
    "quals = np.unique(df_big[\"qualificacio_demissions_de_co2\"])"
   ]
  },
  {
   "cell_type": "code",
   "execution_count": 172,
   "id": "c025161b-5202-4e5c-b038-b3b60a32ed17",
   "metadata": {},
   "outputs": [
    {
     "name": "stdout",
     "output_type": "stream",
     "text": [
      "Qualificacion: A - mean: 8.165199485839768 - q1: 3.019607843137255 - q2: 3.023809523809524 - q3: 3.932911392405063\n",
      "Qualificacion: B - mean: 3.90681453477623 - q1: 3.0205680705190985 - q2: 3.064794816414687 - q3: 3.7751653196179284\n",
      "Qualificacion: C - mean: 3.198088667231273 - q1: 3.020766630176537 - q2: 3.1538301215249946 - q3: 3.7751909199929004\n",
      "Qualificacion: D - mean: 3.140392193348076 - q1: 3.020955211692521 - q2: 3.4945812807881773 - q3: 3.9047028994397417\n",
      "Qualificacion: E - mean: 3.2478619062185654 - q1: 3.021548057839523 - q2: 3.771118903410902 - q3: 3.9442025579376914\n",
      "Qualificacion: F - mean: 3.076504650295318 - q1: 3.0211218473304093 - q2: 3.66535731791699 - q3: 3.9449479274961683\n",
      "Qualificacion: G - mean: 2.684880784921142 - q1: 1.2195128857683177 - q2: 3.215034028213452 - q3: 3.9312706236155965\n"
     ]
    }
   ],
   "source": [
    "for q in quals:\n",
    "    ar = df_big[df_big[\"qualificacio_demissions_de_co2\"]==q][\"ratio_eficiencia\"].dropna()\n",
    "    mean_ratio = np.mean(df_big[df_big[\"qualificacio_demissions_de_co2\"]==q][\"ratio_eficiencia\"].dropna())\n",
    "    print(f\"Qualificacion: {q} - mean: {mean_ratio} - q1: {np.quantile(ar,0.25)} - q2: {np.quantile(ar,0.50)} - q3: {np.quantile(ar,0.75)}\")"
   ]
  },
  {
   "cell_type": "code",
   "execution_count": null,
   "id": "85f5b1ff-2479-4456-af80-65e1df856f5d",
   "metadata": {},
   "outputs": [],
   "source": [
    "# año de construccion con la referencia catastral \n"
   ]
  },
  {
   "cell_type": "code",
   "execution_count": null,
   "id": "3668e646-21b3-4e8d-87ee-fcb080f7363e",
   "metadata": {},
   "outputs": [],
   "source": [
    "columnas_catastro = [\"nom_provincia\", \"poblacio\", \"adreca\", \"comarca\"]"
   ]
  },
  {
   "cell_type": "code",
   "execution_count": 146,
   "id": "fefd939e-5551-4d3f-a25f-9f3fd76507cf",
   "metadata": {},
   "outputs": [
    {
     "data": {
      "text/html": [
       "<div>\n",
       "<style scoped>\n",
       "    .dataframe tbody tr th:only-of-type {\n",
       "        vertical-align: middle;\n",
       "    }\n",
       "\n",
       "    .dataframe tbody tr th {\n",
       "        vertical-align: top;\n",
       "    }\n",
       "\n",
       "    .dataframe thead th {\n",
       "        text-align: right;\n",
       "    }\n",
       "</style>\n",
       "<table border=\"1\" class=\"dataframe\">\n",
       "  <thead>\n",
       "    <tr style=\"text-align: right;\">\n",
       "      <th></th>\n",
       "      <th>num_cas</th>\n",
       "      <th>adreca</th>\n",
       "      <th>numero</th>\n",
       "      <th>escala</th>\n",
       "      <th>pis</th>\n",
       "      <th>porta</th>\n",
       "      <th>codi_postal</th>\n",
       "      <th>poblacio</th>\n",
       "      <th>comarca</th>\n",
       "      <th>nom_provincia</th>\n",
       "      <th>...</th>\n",
       "      <th>qualificacio_energia_refrigeracio_demanda</th>\n",
       "      <th>energia_refrigeracio_demanda</th>\n",
       "      <th>ventilacio_us_residencial</th>\n",
       "      <th>longitud</th>\n",
       "      <th>latitud</th>\n",
       "      <th>georeferencia</th>\n",
       "      <th>rehabilitacio_energetica</th>\n",
       "      <th>actuacions_rehabilitacio</th>\n",
       "      <th>data_entrada</th>\n",
       "      <th>ratio_eficiencia</th>\n",
       "    </tr>\n",
       "  </thead>\n",
       "  <tbody>\n",
       "    <tr>\n",
       "      <th>0</th>\n",
       "      <td>ZJ04JN98B</td>\n",
       "      <td>Polígon Polígon 1 Parcela 16 CAN PRIM</td>\n",
       "      <td>1</td>\n",
       "      <td>NaN</td>\n",
       "      <td>NaN</td>\n",
       "      <td>NaN</td>\n",
       "      <td>17860.0</td>\n",
       "      <td>Sant Joan de les Abadesses</td>\n",
       "      <td>Ripollès</td>\n",
       "      <td>Girona</td>\n",
       "      <td>...</td>\n",
       "      <td>D</td>\n",
       "      <td>11.26</td>\n",
       "      <td>NaN</td>\n",
       "      <td>NaN</td>\n",
       "      <td>NaN</td>\n",
       "      <td>NaN</td>\n",
       "      <td>NO</td>\n",
       "      <td>NaN</td>\n",
       "      <td>16/11/2021</td>\n",
       "      <td>2.228908</td>\n",
       "    </tr>\n",
       "    <tr>\n",
       "      <th>1</th>\n",
       "      <td>167H6HZJ3</td>\n",
       "      <td>Carretera C-245</td>\n",
       "      <td>79</td>\n",
       "      <td>NaN</td>\n",
       "      <td>NaN</td>\n",
       "      <td>NaN</td>\n",
       "      <td>8840.0</td>\n",
       "      <td>Viladecans</td>\n",
       "      <td>Baix Llobregat</td>\n",
       "      <td>Barcelona</td>\n",
       "      <td>...</td>\n",
       "      <td>NaN</td>\n",
       "      <td>NaN</td>\n",
       "      <td>NaN</td>\n",
       "      <td>NaN</td>\n",
       "      <td>NaN</td>\n",
       "      <td>NaN</td>\n",
       "      <td>NaN</td>\n",
       "      <td>NaN</td>\n",
       "      <td>22/04/2016</td>\n",
       "      <td>0.000000</td>\n",
       "    </tr>\n",
       "    <tr>\n",
       "      <th>2</th>\n",
       "      <td>3R8NLZQCC</td>\n",
       "      <td>Carrer NORD</td>\n",
       "      <td>24</td>\n",
       "      <td>NaN</td>\n",
       "      <td>NaN</td>\n",
       "      <td>NaN</td>\n",
       "      <td>17180.0</td>\n",
       "      <td>Vilablareix</td>\n",
       "      <td>Gironès</td>\n",
       "      <td>Girona</td>\n",
       "      <td>...</td>\n",
       "      <td>D</td>\n",
       "      <td>14.12</td>\n",
       "      <td>NaN</td>\n",
       "      <td>NaN</td>\n",
       "      <td>NaN</td>\n",
       "      <td>NaN</td>\n",
       "      <td>NaN</td>\n",
       "      <td>NaN</td>\n",
       "      <td>14/10/2020</td>\n",
       "      <td>1.419219</td>\n",
       "    </tr>\n",
       "    <tr>\n",
       "      <th>3</th>\n",
       "      <td>Q87DJVFN</td>\n",
       "      <td>Carretera D'ALFORJA</td>\n",
       "      <td>11</td>\n",
       "      <td>NaN</td>\n",
       "      <td>NaN</td>\n",
       "      <td>NaN</td>\n",
       "      <td>43350.0</td>\n",
       "      <td>Alforja</td>\n",
       "      <td>Baix Camp</td>\n",
       "      <td>Tarragona</td>\n",
       "      <td>...</td>\n",
       "      <td>D</td>\n",
       "      <td>26.50</td>\n",
       "      <td>NaN</td>\n",
       "      <td>NaN</td>\n",
       "      <td>NaN</td>\n",
       "      <td>NaN</td>\n",
       "      <td>NO</td>\n",
       "      <td>NaN</td>\n",
       "      <td>14/11/2022</td>\n",
       "      <td>3.023109</td>\n",
       "    </tr>\n",
       "    <tr>\n",
       "      <th>4</th>\n",
       "      <td>H5YDH45MC</td>\n",
       "      <td>Disseminat CAL PAU DEL MOLÍ</td>\n",
       "      <td>S/N</td>\n",
       "      <td>NaN</td>\n",
       "      <td>NaN</td>\n",
       "      <td>NaN</td>\n",
       "      <td>8737.0</td>\n",
       "      <td>Torrelles de Foix</td>\n",
       "      <td>Alt Penedès</td>\n",
       "      <td>Barcelona</td>\n",
       "      <td>...</td>\n",
       "      <td>C</td>\n",
       "      <td>8.14</td>\n",
       "      <td>0.63</td>\n",
       "      <td>NaN</td>\n",
       "      <td>NaN</td>\n",
       "      <td>NaN</td>\n",
       "      <td>NO</td>\n",
       "      <td>NaN</td>\n",
       "      <td>17/01/2018</td>\n",
       "      <td>3.210223</td>\n",
       "    </tr>\n",
       "    <tr>\n",
       "      <th>...</th>\n",
       "      <td>...</td>\n",
       "      <td>...</td>\n",
       "      <td>...</td>\n",
       "      <td>...</td>\n",
       "      <td>...</td>\n",
       "      <td>...</td>\n",
       "      <td>...</td>\n",
       "      <td>...</td>\n",
       "      <td>...</td>\n",
       "      <td>...</td>\n",
       "      <td>...</td>\n",
       "      <td>...</td>\n",
       "      <td>...</td>\n",
       "      <td>...</td>\n",
       "      <td>...</td>\n",
       "      <td>...</td>\n",
       "      <td>...</td>\n",
       "      <td>...</td>\n",
       "      <td>...</td>\n",
       "      <td>...</td>\n",
       "      <td>...</td>\n",
       "    </tr>\n",
       "    <tr>\n",
       "      <th>1336920</th>\n",
       "      <td>FBY9MHZWX</td>\n",
       "      <td>Plaça Gatassa</td>\n",
       "      <td>5</td>\n",
       "      <td>NaN</td>\n",
       "      <td>en</td>\n",
       "      <td>2</td>\n",
       "      <td>8303.0</td>\n",
       "      <td>Mataró</td>\n",
       "      <td>Maresme</td>\n",
       "      <td>Barcelona</td>\n",
       "      <td>...</td>\n",
       "      <td>C</td>\n",
       "      <td>5.43</td>\n",
       "      <td>0.66</td>\n",
       "      <td>2.425606</td>\n",
       "      <td>41.542538</td>\n",
       "      <td>POINT (2.425605507597 41.542537501582)</td>\n",
       "      <td>NO</td>\n",
       "      <td>NaN</td>\n",
       "      <td>15/07/2018</td>\n",
       "      <td>3.953464</td>\n",
       "    </tr>\n",
       "    <tr>\n",
       "      <th>1336921</th>\n",
       "      <td>GBZ539JKC</td>\n",
       "      <td>Avinguda Puig i Cadafalch</td>\n",
       "      <td>178</td>\n",
       "      <td>NaN</td>\n",
       "      <td>2</td>\n",
       "      <td>3</td>\n",
       "      <td>8303.0</td>\n",
       "      <td>Mataró</td>\n",
       "      <td>Maresme</td>\n",
       "      <td>Barcelona</td>\n",
       "      <td>...</td>\n",
       "      <td>G</td>\n",
       "      <td>15.95</td>\n",
       "      <td>0.99</td>\n",
       "      <td>2.426638</td>\n",
       "      <td>41.540436</td>\n",
       "      <td>POINT (2.426638117015 41.540435749411)</td>\n",
       "      <td>NO</td>\n",
       "      <td>NaN</td>\n",
       "      <td>12/12/2018</td>\n",
       "      <td>0.096618</td>\n",
       "    </tr>\n",
       "    <tr>\n",
       "      <th>1336922</th>\n",
       "      <td>BD1TS7S7K</td>\n",
       "      <td>Carrer VIA LACTIA</td>\n",
       "      <td>16</td>\n",
       "      <td>NaN</td>\n",
       "      <td>1</td>\n",
       "      <td>2</td>\n",
       "      <td>8191.0</td>\n",
       "      <td>Rubí</td>\n",
       "      <td>Vallès Occidental</td>\n",
       "      <td>Barcelona</td>\n",
       "      <td>...</td>\n",
       "      <td>C</td>\n",
       "      <td>4.11</td>\n",
       "      <td>0.63</td>\n",
       "      <td>2.040995</td>\n",
       "      <td>41.489694</td>\n",
       "      <td>POINT (2.040995076286 41.489694494853)</td>\n",
       "      <td>NaN</td>\n",
       "      <td>NaN</td>\n",
       "      <td>09/09/2016</td>\n",
       "      <td>3.913559</td>\n",
       "    </tr>\n",
       "    <tr>\n",
       "      <th>1336923</th>\n",
       "      <td>6JP3ML7RN</td>\n",
       "      <td>Carrer BOUGANVILLES LES</td>\n",
       "      <td>1</td>\n",
       "      <td>NaN</td>\n",
       "      <td>NaN</td>\n",
       "      <td>NaN</td>\n",
       "      <td>8394.0</td>\n",
       "      <td>Sant Vicenç de Montalt</td>\n",
       "      <td>Maresme</td>\n",
       "      <td>Barcelona</td>\n",
       "      <td>...</td>\n",
       "      <td>B</td>\n",
       "      <td>4.81</td>\n",
       "      <td>0.63</td>\n",
       "      <td>2.502652</td>\n",
       "      <td>41.576547</td>\n",
       "      <td>POINT (2.502651979328 41.576546711983)</td>\n",
       "      <td>NaN</td>\n",
       "      <td>NaN</td>\n",
       "      <td>10/01/2017</td>\n",
       "      <td>3.876382</td>\n",
       "    </tr>\n",
       "    <tr>\n",
       "      <th>1336924</th>\n",
       "      <td>M49S72JJ4</td>\n",
       "      <td>Carrer Pau Claris</td>\n",
       "      <td>54</td>\n",
       "      <td>NaN</td>\n",
       "      <td>2</td>\n",
       "      <td>2</td>\n",
       "      <td>8205.0</td>\n",
       "      <td>Sabadell</td>\n",
       "      <td>Vallès Occidental</td>\n",
       "      <td>Barcelona</td>\n",
       "      <td>...</td>\n",
       "      <td>F</td>\n",
       "      <td>14.98</td>\n",
       "      <td>0.63</td>\n",
       "      <td>2.102595</td>\n",
       "      <td>41.541261</td>\n",
       "      <td>POINT (2.102595021067 41.541261008567)</td>\n",
       "      <td>NO</td>\n",
       "      <td>NaN</td>\n",
       "      <td>16/10/2017</td>\n",
       "      <td>3.575620</td>\n",
       "    </tr>\n",
       "  </tbody>\n",
       "</table>\n",
       "<p>1336925 rows × 70 columns</p>\n",
       "</div>"
      ],
      "text/plain": [
       "           num_cas                                 adreca numero escala  pis  \\\n",
       "0        ZJ04JN98B  Polígon Polígon 1 Parcela 16 CAN PRIM      1    NaN  NaN   \n",
       "1        167H6HZJ3                        Carretera C-245     79    NaN  NaN   \n",
       "2        3R8NLZQCC                            Carrer NORD     24    NaN  NaN   \n",
       "3         Q87DJVFN                    Carretera D'ALFORJA     11    NaN  NaN   \n",
       "4        H5YDH45MC            Disseminat CAL PAU DEL MOLÍ    S/N    NaN  NaN   \n",
       "...            ...                                    ...    ...    ...  ...   \n",
       "1336920  FBY9MHZWX                          Plaça Gatassa      5    NaN   en   \n",
       "1336921  GBZ539JKC              Avinguda Puig i Cadafalch    178    NaN    2   \n",
       "1336922  BD1TS7S7K                      Carrer VIA LACTIA     16    NaN    1   \n",
       "1336923  6JP3ML7RN                Carrer BOUGANVILLES LES      1    NaN  NaN   \n",
       "1336924  M49S72JJ4                      Carrer Pau Claris     54    NaN    2   \n",
       "\n",
       "        porta  codi_postal                    poblacio            comarca  \\\n",
       "0         NaN      17860.0  Sant Joan de les Abadesses           Ripollès   \n",
       "1         NaN       8840.0                  Viladecans     Baix Llobregat   \n",
       "2         NaN      17180.0                 Vilablareix            Gironès   \n",
       "3         NaN      43350.0                     Alforja          Baix Camp   \n",
       "4         NaN       8737.0           Torrelles de Foix        Alt Penedès   \n",
       "...       ...          ...                         ...                ...   \n",
       "1336920     2       8303.0                      Mataró            Maresme   \n",
       "1336921     3       8303.0                      Mataró            Maresme   \n",
       "1336922     2       8191.0                        Rubí  Vallès Occidental   \n",
       "1336923   NaN       8394.0      Sant Vicenç de Montalt            Maresme   \n",
       "1336924     2       8205.0                    Sabadell  Vallès Occidental   \n",
       "\n",
       "        nom_provincia  ...  qualificacio_energia_refrigeracio_demanda  \\\n",
       "0              Girona  ...                                          D   \n",
       "1           Barcelona  ...                                        NaN   \n",
       "2              Girona  ...                                          D   \n",
       "3           Tarragona  ...                                          D   \n",
       "4           Barcelona  ...                                          C   \n",
       "...               ...  ...                                        ...   \n",
       "1336920     Barcelona  ...                                          C   \n",
       "1336921     Barcelona  ...                                          G   \n",
       "1336922     Barcelona  ...                                          C   \n",
       "1336923     Barcelona  ...                                          B   \n",
       "1336924     Barcelona  ...                                          F   \n",
       "\n",
       "         energia_refrigeracio_demanda  ventilacio_us_residencial  longitud  \\\n",
       "0                               11.26                        NaN       NaN   \n",
       "1                                 NaN                        NaN       NaN   \n",
       "2                               14.12                        NaN       NaN   \n",
       "3                               26.50                        NaN       NaN   \n",
       "4                                8.14                       0.63       NaN   \n",
       "...                               ...                        ...       ...   \n",
       "1336920                          5.43                       0.66  2.425606   \n",
       "1336921                         15.95                       0.99  2.426638   \n",
       "1336922                          4.11                       0.63  2.040995   \n",
       "1336923                          4.81                       0.63  2.502652   \n",
       "1336924                         14.98                       0.63  2.102595   \n",
       "\n",
       "           latitud                           georeferencia  \\\n",
       "0              NaN                                     NaN   \n",
       "1              NaN                                     NaN   \n",
       "2              NaN                                     NaN   \n",
       "3              NaN                                     NaN   \n",
       "4              NaN                                     NaN   \n",
       "...            ...                                     ...   \n",
       "1336920  41.542538  POINT (2.425605507597 41.542537501582)   \n",
       "1336921  41.540436  POINT (2.426638117015 41.540435749411)   \n",
       "1336922  41.489694  POINT (2.040995076286 41.489694494853)   \n",
       "1336923  41.576547  POINT (2.502651979328 41.576546711983)   \n",
       "1336924  41.541261  POINT (2.102595021067 41.541261008567)   \n",
       "\n",
       "         rehabilitacio_energetica actuacions_rehabilitacio data_entrada  \\\n",
       "0                              NO                      NaN   16/11/2021   \n",
       "1                             NaN                      NaN   22/04/2016   \n",
       "2                             NaN                      NaN   14/10/2020   \n",
       "3                              NO                      NaN   14/11/2022   \n",
       "4                              NO                      NaN   17/01/2018   \n",
       "...                           ...                      ...          ...   \n",
       "1336920                        NO                      NaN   15/07/2018   \n",
       "1336921                        NO                      NaN   12/12/2018   \n",
       "1336922                       NaN                      NaN   09/09/2016   \n",
       "1336923                       NaN                      NaN   10/01/2017   \n",
       "1336924                        NO                      NaN   16/10/2017   \n",
       "\n",
       "         ratio_eficiencia  \n",
       "0                2.228908  \n",
       "1                0.000000  \n",
       "2                1.419219  \n",
       "3                3.023109  \n",
       "4                3.210223  \n",
       "...                   ...  \n",
       "1336920          3.953464  \n",
       "1336921          0.096618  \n",
       "1336922          3.913559  \n",
       "1336923          3.876382  \n",
       "1336924          3.575620  \n",
       "\n",
       "[1336925 rows x 70 columns]"
      ]
     },
     "execution_count": 146,
     "metadata": {},
     "output_type": "execute_result"
    }
   ],
   "source": [
    "df_big["
   ]
  },
  {
   "cell_type": "code",
   "execution_count": 162,
   "id": "ddb2c3a5-622c-49fe-a702-5ca4a46246bd",
   "metadata": {},
   "outputs": [
    {
     "data": {
      "text/plain": [
       "count    731615.000000\n",
       "mean          3.247862\n",
       "std           2.764866\n",
       "min           0.000000\n",
       "25%           3.021548\n",
       "50%           3.771119\n",
       "75%           3.944203\n",
       "max        1275.444444\n",
       "Name: ratio_eficiencia, dtype: float64"
      ]
     },
     "execution_count": 162,
     "metadata": {},
     "output_type": "execute_result"
    }
   ],
   "source": [
    "df_big[df_big[\"qualificacio_demissions_de_co2\"]==\"E\"][\"ratio_eficiencia\"].describe()"
   ]
  },
  {
   "cell_type": "code",
   "execution_count": 166,
   "id": "6e1a12ba-c43e-4cc9-ade1-07d562b3bba5",
   "metadata": {},
   "outputs": [
    {
     "data": {
      "text/plain": [
       "0          2.228908\n",
       "4          3.210223\n",
       "12         3.818110\n",
       "17         3.156027\n",
       "20         3.199384\n",
       "             ...   \n",
       "1336914    3.740849\n",
       "1336915    3.939731\n",
       "1336917    3.877419\n",
       "1336921    0.096618\n",
       "1336922    3.913559\n",
       "Name: ratio_eficiencia, Length: 747999, dtype: float64"
      ]
     },
     "execution_count": 166,
     "metadata": {},
     "output_type": "execute_result"
    }
   ],
   "source": [
    "df_big[df_big[\"qualificacio_demissions_de_co2\"]==\"E\"][\"ratio_eficiencia\"]"
   ]
  },
  {
   "cell_type": "code",
   "execution_count": null,
   "id": "6c39cc4e-b050-4b74-a4be-4b239af55a38",
   "metadata": {},
   "outputs": [],
   "source": []
  }
 ],
 "metadata": {
  "kernelspec": {
   "display_name": "Python 3 (ipykernel)",
   "language": "python",
   "name": "python3"
  },
  "language_info": {
   "codemirror_mode": {
    "name": "ipython",
    "version": 3
   },
   "file_extension": ".py",
   "mimetype": "text/x-python",
   "name": "python",
   "nbconvert_exporter": "python",
   "pygments_lexer": "ipython3",
   "version": "3.12.6"
  }
 },
 "nbformat": 4,
 "nbformat_minor": 5
}
